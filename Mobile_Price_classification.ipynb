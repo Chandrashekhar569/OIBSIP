{
  "nbformat": 4,
  "nbformat_minor": 0,
  "metadata": {
    "colab": {
      "private_outputs": true,
      "provenance": [],
      "collapsed_sections": [
        "vncDsAP0Gaoa",
        "FJNUwmbgGyua",
        "w6K7xa23Elo4",
        "yQaldy8SH6Dl",
        "mDgbUHAGgjLW",
        "3RnN4peoiCZX",
        "x71ZqKXriCWQ",
        "7hBIi_osiCS2",
        "JlHwYmJAmNHm",
        "35m5QtbWiB9F",
        "PoPl-ycgm1ru",
        "H0kj-8xxnORC",
        "nA9Y7ga8ng1Z",
        "PBTbrJXOngz2",
        "u3PMJOP6ngxN",
        "dauF4eBmngu3",
        "bKJF3rekwFvQ",
        "MSa1f5Uengrz",
        "lQ7QKXXCp7Bj",
        "448CDAPjqfQr",
        "ylSl6qgtp1ck",
        "ZWILFDl5p1ck",
        "M7G43BXep1ck",
        "E6MkPsBcp1cl",
        "2cELzS2fp1cl",
        "3MPXvC8up1cl",
        "g-ATYxFrGrvw",
        "Yfr_Vlr8HBkt",
        "8yEUt7NnHlrM",
        "tEA2Xm5dHt1r",
        "I79__PHVH19G",
        "Ou-I18pAyIpj",
        "fF3858GYyt-u",
        "4_0_7-oCpUZd",
        "hwyV_J3ipUZe",
        "3yB-zSqbpUZe",
        "dEUvejAfpUZe",
        "Fd15vwWVpUZf",
        "bn_IUdTipZyH",
        "49K5P_iCpZyH",
        "Nff-vKELpZyI",
        "kLW572S8pZyI",
        "dWbDXHzopZyI",
        "xiyOF9F70UgQ",
        "7wuGOrhz0itI",
        "id1riN9m0vUs",
        "578E2V7j08f6",
        "89xtkJwZ18nB",
        "67NQN5KX2AMe",
        "Iwf50b-R2tYG",
        "GMQiZwjn3iu7",
        "WVIkgGqN3qsr",
        "XkPnILGE3zoT",
        "Hlsf0x5436Go",
        "mT9DMSJo4nBL",
        "c49ITxTc407N",
        "OeJFEK0N496M",
        "9ExmJH0g5HBk",
        "cJNqERVU536h",
        "k5UmGsbsOxih",
        "T0VqWOYE6DLQ",
        "qBMux9mC6MCf",
        "2DejudWSA-a0",
        "pEMng2IbBLp7",
        "rAdphbQ9Bhjc",
        "TNVZ9zx19K6k",
        "nqoHp30x9hH9",
        "rMDnDkt2B6du",
        "yiiVWRdJDDil",
        "1UUpS68QDMuG",
        "kexQrXU-DjzY",
        "T5CmagL3EC8N",
        "BhH2vgX9EjGr",
        "qjKvONjwE8ra",
        "P1XJ9OREExlT",
        "VFOzZv6IFROw",
        "TIqpNgepFxVj",
        "VfCC591jGiD4",
        "OB4l2ZhMeS1U",
        "ArJBuiUVfxKd",
        "4qY1EAkEfxKe",
        "PiV4Ypx8fxKe",
        "TfvqoZmBfxKf",
        "dJ2tPlVmpsJ0",
        "JWYfwnehpsJ1",
        "-jK_YjpMpsJ2",
        "HAih1iBOpsJ2",
        "zVGeBEFhpsJ2",
        "bmKjuQ-FpsJ3",
        "Fze-IPXLpx6K",
        "7AN1z2sKpx6M",
        "9PIHJqyupx6M",
        "_-qAgymDpx6N",
        "Z-hykwinpx6N",
        "h_CCil-SKHpo",
        "cBFFvTBNJzUa",
        "HvGl1hHyA_VK",
        "EyNgTHvd2WFk",
        "KH5McJBi2d8v",
        "iW_Lq9qf2h6X",
        "-Kee-DAl2viO",
        "gCX9965dhzqZ",
        "gIfDvo9L0UH2"
      ],
      "include_colab_link": true
    },
    "kernelspec": {
      "name": "python3",
      "display_name": "Python 3"
    },
    "language_info": {
      "name": "python"
    }
  },
  "cells": [
    {
      "cell_type": "markdown",
      "metadata": {
        "id": "view-in-github",
        "colab_type": "text"
      },
      "source": [
        "<a href=\"https://colab.research.google.com/github/Chandrashekhar569/OIBSIP/blob/main/Mobile_Price_classification.ipynb\" target=\"_parent\"><img src=\"https://colab.research.google.com/assets/colab-badge.svg\" alt=\"Open In Colab\"/></a>"
      ]
    },
    {
      "cell_type": "markdown",
      "source": [
        "# **Project Name**    - \n",
        "\n"
      ],
      "metadata": {
        "id": "vncDsAP0Gaoa"
      }
    },
    {
      "cell_type": "markdown",
      "source": [
        "##### **Project Type**    - Classification\n",
        "##### **Contribution**    - Individual\n"
      ],
      "metadata": {
        "id": "beRrZCGUAJYm"
      }
    },
    {
      "cell_type": "markdown",
      "source": [
        "# **Project Summary -**"
      ],
      "metadata": {
        "id": "FJNUwmbgGyua"
      }
    },
    {
      "cell_type": "markdown",
      "source": [
        "The mobile phone industry is fiercely competitive, with companies constantly seeking ways to understand sales data and identify the factors that drive prices. This project aims to investigate the relationship between mobile phone features and their selling prices, focusing on establishing a price range rather than predicting exact prices.\n",
        "\n",
        "To accomplish this objective, a comprehensive dataset containing mobile phone sales records, including various features and corresponding prices, will be collected. Exploratory data analysis techniques will be employed to uncover trends, patterns, and correlations within the data. Statistical methods and domain knowledge will then be used to select the most influential features for further analysis.\n",
        "\n",
        "A predictive model or framework will be developed, utilizing machine learning algorithms or statistical methods, to estimate the price range based on the selected features. The performance of the model will be evaluated using appropriate metrics and cross-validation techniques to ensure its accuracy and reliability.\n",
        "\n",
        "The outcomes of this project will contribute to the mobile phone industry by identifying the key features that significantly impact the price range of mobile phones. This information will be invaluable for businesses operating in this sector, as it will enable them to optimize their pricing strategies and enhance their competitiveness in the market.\n",
        "\n",
        "The insights gained from this research will not only benefit mobile phone manufacturers but also provide valuable information to consumers. By understanding the relationship between features and prices, consumers can make more informed purchasing decisions based on their desired price range.\n",
        "\n",
        "Additionally, this project will contribute to the existing body of knowledge by adding empirical evidence on the relationship between mobile phone features and prices. It will shed light on the factors that influence pricing dynamics in the mobile phone market, furthering our understanding of this rapidly evolving industry.\n",
        "\n",
        "Ultimately, the project's findings and recommendations will help businesses in the mobile phone industry better align their products with market demands and consumer preferences. By optimizing their pricing strategies, manufacturers can enhance customer satisfaction and profitability.\n",
        "\n",
        "In conclusion, this project aims to explore the relationship between mobile phone features and price range. Through a comprehensive analysis of sales data and the development of a predictive model, it seeks to provide insights and recommendations to businesses operating in the mobile phone market. By understanding the factors that drive prices, companies can make informed decisions and adapt their strategies to meet consumer expectations. This research will contribute to the existing body of knowledge and support the continued growth and competitiveness of the mobile phone industry."
      ],
      "metadata": {
        "id": "F6v_1wHtG2nS"
      }
    },
    {
      "cell_type": "markdown",
      "source": [
        "# **GitHub Link -**"
      ],
      "metadata": {
        "id": "w6K7xa23Elo4"
      }
    },
    {
      "cell_type": "markdown",
      "source": [
        "Provide your GitHub Link here."
      ],
      "metadata": {
        "id": "h1o69JH3Eqqn"
      }
    },
    {
      "cell_type": "markdown",
      "source": [
        "# **Problem Statement**\n"
      ],
      "metadata": {
        "id": "yQaldy8SH6Dl"
      }
    },
    {
      "cell_type": "markdown",
      "source": [
        "In the competitive mobile phone market, the challenge is to understand the relationship between mobile phone features and their selling prices. The objective is to determine a price range that indicates the relative pricing level, rather than predicting the exact price. This lack of understanding hinders companies' ability to optimize pricing strategies and may lead to mispriced products. Additionally, consumers face difficulty in making informed purchasing decisions. The project aims to uncover the key features that significantly impact price range variations and develop a model to estimate the price range based on these features. By addressing this problem, businesses can improve their competitiveness and consumers can make more informed decisions."
      ],
      "metadata": {
        "id": "DpeJGUA3kjGy"
      }
    },
    {
      "cell_type": "markdown",
      "source": [
        "# **General Guidelines** : -  "
      ],
      "metadata": {
        "id": "mDgbUHAGgjLW"
      }
    },
    {
      "cell_type": "markdown",
      "source": [
        "1.   Well-structured, formatted, and commented code is required. \n",
        "2.   Exception Handling, Production Grade Code & Deployment Ready Code will be a plus. Those students will be awarded some additional credits. \n",
        "     \n",
        "     The additional credits will have advantages over other students during Star Student selection.\n",
        "       \n",
        "             [ Note: - Deployment Ready Code is defined as, the whole .ipynb notebook should be executable in one go\n",
        "                       without a single error logged. ]\n",
        "\n",
        "3.   Each and every logic should have proper comments.\n",
        "4. You may add as many number of charts you want. Make Sure for each and every chart the following format should be answered.\n",
        "        \n",
        "\n",
        "```\n",
        "# Chart visualization code\n",
        "```\n",
        "            \n",
        "\n",
        "*   Why did you pick the specific chart?\n",
        "*   What is/are the insight(s) found from the chart?\n",
        "* Will the gained insights help creating a positive business impact? \n",
        "Are there any insights that lead to negative growth? Justify with specific reason.\n",
        "\n",
        "5. You have to create at least 15 logical & meaningful charts having important insights.\n",
        "\n",
        "\n",
        "[ Hints : - Do the Vizualization in  a structured way while following \"UBM\" Rule. \n",
        "\n",
        "U - Univariate Analysis,\n",
        "\n",
        "B - Bivariate Analysis (Numerical - Categorical, Numerical - Numerical, Categorical - Categorical)\n",
        "\n",
        "M - Multivariate Analysis\n",
        " ]\n",
        "\n",
        "\n",
        "\n",
        "\n",
        "\n",
        "6. You may add more ml algorithms for model creation. Make sure for each and every algorithm, the following format should be answered.\n",
        "\n",
        "\n",
        "*   Explain the ML Model used and it's performance using Evaluation metric Score Chart.\n",
        "\n",
        "\n",
        "*   Cross- Validation & Hyperparameter Tuning\n",
        "\n",
        "*   Have you seen any improvement? Note down the improvement with updates Evaluation metric Score Chart.\n",
        "\n",
        "*   Explain each evaluation metric's indication towards business and the business impact pf the ML model used.\n",
        "\n",
        "\n",
        "\n",
        "\n",
        "\n",
        "\n",
        "\n",
        "\n",
        "\n",
        "\n",
        "\n",
        "\n",
        "\n",
        "\n",
        "\n",
        "\n",
        "\n",
        "\n"
      ],
      "metadata": {
        "id": "ZrxVaUj-hHfC"
      }
    },
    {
      "cell_type": "markdown",
      "source": [
        "# ***Let's Begin !***"
      ],
      "metadata": {
        "id": "O_i_v8NEhb9l"
      }
    },
    {
      "cell_type": "markdown",
      "source": [
        "## ***1. Know Your Data***"
      ],
      "metadata": {
        "id": "HhfV-JJviCcP"
      }
    },
    {
      "cell_type": "markdown",
      "source": [
        "### Import Libraries"
      ],
      "metadata": {
        "id": "Y3lxredqlCYt"
      }
    },
    {
      "cell_type": "code",
      "source": [
        "# Import Libraries\n",
        "import numpy as np \n",
        "import pandas as pd \n",
        "import matplotlib.pyplot as plt \n",
        "import seaborn as sns \n",
        "import math\n",
        "import plotly.express as px\n",
        "from sklearn.svm import SVC\n",
        "from scipy.stats import ttest_ind\n",
        "from sklearn.model_selection import GridSearchCV\n",
        "from scipy.stats import chi2_contingency\n",
        "from sklearn.preprocessing import StandardScaler, MinMaxScaler, RobustScaler\n",
        "from sklearn.linear_model import LogisticRegression\n",
        "from sklearn.neighbors import KNeighborsClassifier\n",
        "from sklearn.metrics import accuracy_score\n",
        "from sklearn.model_selection import train_test_split\n",
        "from sklearn.metrics import accuracy_score, confusion_matrix, classification_report, roc_auc_score"
      ],
      "metadata": {
        "id": "M8Vqi-pPk-HR"
      },
      "execution_count": null,
      "outputs": []
    },
    {
      "cell_type": "markdown",
      "source": [
        "### Dataset Loading"
      ],
      "metadata": {
        "id": "3RnN4peoiCZX"
      }
    },
    {
      "cell_type": "code",
      "source": [
        "# Load Dataset\n",
        "data = pd.read_csv('/content/data_mobile_price_range.csv')"
      ],
      "metadata": {
        "id": "4CkvbW_SlZ_R"
      },
      "execution_count": null,
      "outputs": []
    },
    {
      "cell_type": "markdown",
      "source": [
        "### Dataset First View"
      ],
      "metadata": {
        "id": "x71ZqKXriCWQ"
      }
    },
    {
      "cell_type": "code",
      "source": [
        "data.head()"
      ],
      "metadata": {
        "id": "LWNFOSvLl09H"
      },
      "execution_count": null,
      "outputs": []
    },
    {
      "cell_type": "markdown",
      "source": [
        "### Dataset Rows & Columns count"
      ],
      "metadata": {
        "id": "7hBIi_osiCS2"
      }
    },
    {
      "cell_type": "code",
      "source": [
        "# Dataset Rows & Columns count\n",
        "print(\"Rows: \" + str(len(data.axes[0])))\n",
        "print(\"Columns: \" + str(len(data.axes[1])))"
      ],
      "metadata": {
        "id": "Kllu7SJgmLij"
      },
      "execution_count": null,
      "outputs": []
    },
    {
      "cell_type": "markdown",
      "source": [
        "### Dataset Information"
      ],
      "metadata": {
        "id": "JlHwYmJAmNHm"
      }
    },
    {
      "cell_type": "code",
      "source": [
        "# Dataset Info\n",
        "data.info()"
      ],
      "metadata": {
        "id": "e9hRXRi6meOf"
      },
      "execution_count": null,
      "outputs": []
    },
    {
      "cell_type": "markdown",
      "source": [
        "#### Duplicate Values"
      ],
      "metadata": {
        "id": "35m5QtbWiB9F"
      }
    },
    {
      "cell_type": "code",
      "source": [
        "# Dataset Duplicate Value Count\n",
        "len(data[data.duplicated()])"
      ],
      "metadata": {
        "id": "1sLdpKYkmox0"
      },
      "execution_count": null,
      "outputs": []
    },
    {
      "cell_type": "markdown",
      "source": [
        "#### Missing Values/Null Values"
      ],
      "metadata": {
        "id": "PoPl-ycgm1ru"
      }
    },
    {
      "cell_type": "code",
      "source": [
        "# Missing Values/Null Values Count\n",
        "data.isnull().sum()"
      ],
      "metadata": {
        "id": "GgHWkxvamxVg"
      },
      "execution_count": null,
      "outputs": []
    },
    {
      "cell_type": "code",
      "source": [
        "# Visualizing the missing values\n",
        "sns.heatmap(data.isnull(), cbar=False)\n",
        "plt.show()"
      ],
      "metadata": {
        "id": "3q5wnI3om9sJ"
      },
      "execution_count": null,
      "outputs": []
    },
    {
      "cell_type": "markdown",
      "source": [
        "### What did you know about your dataset?"
      ],
      "metadata": {
        "id": "H0kj-8xxnORC"
      }
    },
    {
      "cell_type": "markdown",
      "source": [
        "In this dataset contains information on mobile phones, with each row representing a different phone and various attributes/features captured for each phone.\n",
        "\n",
        "The above dataset has 2000 rows and 21 columns. There are no mising values and duplicate values in the dataset."
      ],
      "metadata": {
        "id": "gfoNAAC-nUe_"
      }
    },
    {
      "cell_type": "markdown",
      "source": [
        "## ***2. Understanding Your Variables***"
      ],
      "metadata": {
        "id": "nA9Y7ga8ng1Z"
      }
    },
    {
      "cell_type": "code",
      "source": [
        "# Dataset Columns\n",
        "data.columns"
      ],
      "metadata": {
        "id": "j7xfkqrt5Ag5"
      },
      "execution_count": null,
      "outputs": []
    },
    {
      "cell_type": "code",
      "source": [
        "# Dataset Describe\n",
        "data.describe(include='all')"
      ],
      "metadata": {
        "id": "DnOaZdaE5Q5t"
      },
      "execution_count": null,
      "outputs": []
    },
    {
      "cell_type": "markdown",
      "source": [
        "### Variables Description "
      ],
      "metadata": {
        "id": "PBTbrJXOngz2"
      }
    },
    {
      "cell_type": "markdown",
      "source": [
        "* **Battery_power :** Battery capacity in mAh\n",
        "\n",
        "* **Blue :** Has bluetooth or not\n",
        "\n",
        "* **Clock_speed :** speed at which microprocessor executes instructions\n",
        "\n",
        "* **Dual_sim :** Has dual sim support not\n",
        "\n",
        "* **FC :** Front Camera megapixels\n",
        "\n",
        "* **Four_g :** Has 4G not\n",
        "\n",
        "* **Int-memory :** Internal memory capacity\n",
        "\n",
        "* **M_dep :** Mobile depth in cm\n",
        "\n",
        "* **Mobile-wt :** Weight of mobiles phone\n",
        "\n",
        "* **N-cores :** Number of in processor\n",
        "\n",
        "* **pc :** primary Camera mega pixel\n",
        "\n",
        "* **PX-height :** Pixel resolution height\n",
        "\n",
        "* **px_width :** Pixel resolution width\n",
        "\n",
        "* **Ram :** Random Access Memory in MB\n",
        "\n",
        "* **SC-h :** Screen Height\n",
        "\n",
        "* **SC-w :** Screen width\n",
        "\n",
        "* **Talk-time :** Longest that a single battery a call last\n",
        "\n",
        "* **Three-g :** Has 3g or not\n",
        "\n",
        "* **Wifl :** Has wifi or not\n",
        "\n",
        "* **Price—range :** This is the target variable with a value of O(low cost) (medium cost), 2 (high cost) 3(very high cost)\n"
      ],
      "metadata": {
        "id": "aJV4KIxSnxay"
      }
    },
    {
      "cell_type": "markdown",
      "source": [
        "### Check Unique Values for each variable."
      ],
      "metadata": {
        "id": "u3PMJOP6ngxN"
      }
    },
    {
      "cell_type": "code",
      "source": [
        "# Check Unique Values for each variable.\n",
        "data.nunique()"
      ],
      "metadata": {
        "id": "zms12Yq5n-jE"
      },
      "execution_count": null,
      "outputs": []
    },
    {
      "cell_type": "markdown",
      "source": [
        "## 3. ***Data Wrangling***"
      ],
      "metadata": {
        "id": "dauF4eBmngu3"
      }
    },
    {
      "cell_type": "markdown",
      "source": [
        "### Data Wrangling Code"
      ],
      "metadata": {
        "id": "bKJF3rekwFvQ"
      }
    },
    {
      "cell_type": "code",
      "source": [
        "# Write your code to make your dataset analysis ready."
      ],
      "metadata": {
        "id": "wk-9a2fpoLcV"
      },
      "execution_count": null,
      "outputs": []
    },
    {
      "cell_type": "markdown",
      "source": [
        "### What all manipulations have you done and insights you found?"
      ],
      "metadata": {
        "id": "MSa1f5Uengrz"
      }
    },
    {
      "cell_type": "markdown",
      "source": [
        "Answer Here."
      ],
      "metadata": {
        "id": "LbyXE7I1olp8"
      }
    },
    {
      "cell_type": "markdown",
      "source": [
        "## ***4. Data Vizualization, Storytelling & Experimenting with charts : Understand the relationships between variables***"
      ],
      "metadata": {
        "id": "GF8Ens_Soomf"
      }
    },
    {
      "cell_type": "markdown",
      "source": [
        "#### Chart - 1.  Exploring RAM Distribution: Visualizing Histogram of RAM Usage"
      ],
      "metadata": {
        "id": "0wOQAZs5pc--"
      }
    },
    {
      "cell_type": "code",
      "source": [
        "# Visualization 1: Histogram of RAM\n",
        "plt.figure(figsize=(8, 6))\n",
        "plt.hist(data['ram'], bins=10, edgecolor='black')\n",
        "plt.xlabel('RAM')\n",
        "plt.ylabel('Frequency')\n",
        "plt.title('Histogram of RAM')\n",
        "plt.show()"
      ],
      "metadata": {
        "id": "CfBmrl-WTO0_"
      },
      "execution_count": null,
      "outputs": []
    },
    {
      "cell_type": "markdown",
      "source": [
        "##### 1. Why did you pick the specific chart?"
      ],
      "metadata": {
        "id": "K5QZ13OEpz2H"
      }
    },
    {
      "cell_type": "markdown",
      "source": [
        "The histogram is chosen to visualize the distribution of RAM values in the dataset."
      ],
      "metadata": {
        "id": "XESiWehPqBRc"
      }
    },
    {
      "cell_type": "markdown",
      "source": [
        "##### 2. What is/are the insight(s) found from the chart?"
      ],
      "metadata": {
        "id": "lQ7QKXXCp7Bj"
      }
    },
    {
      "cell_type": "markdown",
      "source": [
        "* The chart shows the frequency distribution of different RAM values.\n",
        "* It helps in understanding the distribution pattern and identifying the most common RAM values."
      ],
      "metadata": {
        "id": "C_j1G7yiqdRP"
      }
    },
    {
      "cell_type": "markdown",
      "source": [
        "##### 3. Will the gained insights help creating a positive business impact? \n",
        "Are there any insights that lead to negative growth? Justify with specific reason."
      ],
      "metadata": {
        "id": "448CDAPjqfQr"
      }
    },
    {
      "cell_type": "markdown",
      "source": [
        "* The insights from this chart can help in understanding the popularity of certain RAM sizes in the market.\n",
        "* It can assist in making informed decisions regarding the production and pricing of mobile phones with different RAM capacities.\n",
        "* Positive business impact can be achieved by aligning the product offerings with the market demand for specific RAM sizes."
      ],
      "metadata": {
        "id": "3cspy4FjqxJW"
      }
    },
    {
      "cell_type": "markdown",
      "source": [
        "#### Chart - 2.  Exploring Numeric Variable Distributions: Multi-plot Histogram Visualization"
      ],
      "metadata": {
        "id": "KSlN3yHqYklG"
      }
    },
    {
      "cell_type": "code",
      "source": [
        "# Chart - 2 visualization code\n",
        "def plot_histograms(data):\n",
        "    cols_list = [col for col in data.columns if data[col].dtype != 'object'] # get list of numeric columns\n",
        "    num_plots = len(cols_list)\n",
        "    num_rows = math.ceil(num_plots / 3)\n",
        "    num_cols = min(num_plots, 3)\n",
        "    #feat = list(datata.columns)\n",
        "    fig, axes = plt.subplots(nrows=num_rows, ncols=num_cols, figsize=(15, num_rows*3)) # create subplots\n",
        "    for i,col in enumerate(cols_list):\n",
        "        ax = axes[i//num_cols,i%num_cols]\n",
        "        sns.histplot(data=data, x=col, kde=True, ax=ax,color='g') # create histogram using Seaborn\n",
        "        ax.set_title(f'Histogram of {col}') # set title of plot to column name\n",
        "    plt.tight_layout() # adjust layout of subplots\n",
        "    plt.show() # display the plot"
      ],
      "metadata": {
        "id": "ORhvP6mpdDOe"
      },
      "execution_count": null,
      "outputs": []
    },
    {
      "cell_type": "code",
      "source": [
        "#plotting histogram for numeric variable\n",
        "plot_histograms(data)"
      ],
      "metadata": {
        "id": "TU6ZXD0NdP9e"
      },
      "execution_count": null,
      "outputs": []
    },
    {
      "cell_type": "markdown",
      "source": [
        "##### 1. Why did you pick the specific chart?"
      ],
      "metadata": {
        "id": "t6dVpIINYklI"
      }
    },
    {
      "cell_type": "markdown",
      "source": [
        "The specific chart chosen is a histogram because it effectively visualizes the distribution of numeric variables."
      ],
      "metadata": {
        "id": "5aaW0BYyYklI"
      }
    },
    {
      "cell_type": "markdown",
      "source": [
        "##### 2. What is/are the insight(s) found from the chart?"
      ],
      "metadata": {
        "id": "ijmpgYnKYklI"
      }
    },
    {
      "cell_type": "markdown",
      "source": [
        "The histograms provide insights into the distribution characteristics of the numeric variables, such as central tendency, spread, skewness, and presence of outliers."
      ],
      "metadata": {
        "id": "PSx9atu2YklI"
      }
    },
    {
      "cell_type": "markdown",
      "source": [
        "##### 3. Will the gained insights help creating a positive business impact? \n",
        "Are there any insights that lead to negative growth? Justify with specific reason."
      ],
      "metadata": {
        "id": "-JiQyfWJYklI"
      }
    },
    {
      "cell_type": "markdown",
      "source": [
        "The gained insights from the histograms can potentially have a positive business impact by informing decisions related to market segmentation, data quality improvement, and understanding customer preferences. However, the histograms alone do not directly indicate negative growth. Identifying negative growth would require a more comprehensive analysis considering additional factors beyond the histograms."
      ],
      "metadata": {
        "id": "BcBbebzrYklV"
      }
    },
    {
      "cell_type": "markdown",
      "source": [
        "#### Chart - 3.  Examining Relationship Between RAM and Number of Cores: Stripplot and Boxplot Visualization"
      ],
      "metadata": {
        "id": "EM7whBJCYoAo"
      }
    },
    {
      "cell_type": "code",
      "source": [
        "#Number of Cores - Ram\n",
        "fig, axes = plt.subplots(2,1, figsize=(20,20))\n",
        "sns.stripplot(data=data, x='ram', palette='viridis', hue='price_range', y='n_cores', orient='h', ax=axes[0])\n",
        "axes[0].set_title('Number of Cores - Ram', fontsize='16')\n",
        "axes[0].legend(loc=4)\n",
        "sns.boxplot(data=data, x='ram', palette='viridis', hue='price_range', y='n_cores', orient='h', ax=axes[1])\n",
        "plt.show()"
      ],
      "metadata": {
        "id": "t6GMdE67YoAp"
      },
      "execution_count": null,
      "outputs": []
    },
    {
      "cell_type": "markdown",
      "source": [
        "##### 1. Why did you pick the specific chart?"
      ],
      "metadata": {
        "id": "fge-S5ZAYoAp"
      }
    },
    {
      "cell_type": "markdown",
      "source": [
        "The code uses a strip plot and a box plot. The strip plot is chosen to show the distribution of 'Number of Cores' for each combination of 'Ram' values, while the box plot displays the distribution of 'Number of Cores' across different 'Ram' values for each price range category."
      ],
      "metadata": {
        "id": "5dBItgRVYoAp"
      }
    },
    {
      "cell_type": "markdown",
      "source": [
        "##### 2. What is/are the insight(s) found from the chart?"
      ],
      "metadata": {
        "id": "85gYPyotYoAp"
      }
    },
    {
      "cell_type": "markdown",
      "source": [
        "The charts provide insights into the relationship between 'Ram', 'Number of Cores', and price ranges. They show patterns, clusters, and potential outliers in the data, allowing us to analyze how 'Number of Cores' varies with 'Ram' and its relationship with price ranges."
      ],
      "metadata": {
        "id": "4jstXR6OYoAp"
      }
    },
    {
      "cell_type": "markdown",
      "source": [
        "##### 3. Will the gained insights help creating a positive business impact? \n",
        "Are there any insights that lead to negative growth? Justify with specific reason."
      ],
      "metadata": {
        "id": "RoGjAbkUYoAp"
      }
    },
    {
      "cell_type": "markdown",
      "source": [
        "The gained insights can potentially have a positive business impact by informing decisions related to product development, marketing, and pricing strategies. However, the charts alone do not indicate negative growth. Assessing negative growth would require a more comprehensive analysis considering additional factors beyond the charts themselves."
      ],
      "metadata": {
        "id": "zfJ8IqMcYoAp"
      }
    },
    {
      "cell_type": "markdown",
      "source": [
        "#### Chart - 4.  Price Range vs. RAM: Swarmplot Visualization with Dark Grid Styling"
      ],
      "metadata": {
        "id": "4Of9eVA-YrdM"
      }
    },
    {
      "cell_type": "code",
      "source": [
        "ax = plt.subplots(figsize=(10, 10))\n",
        "ax=sns.swarmplot(x=\"price_range\", y=\"ram\", hue=\"price_range\",\n",
        "              palette=\"Dark2\", data=data)\n",
        "ax=sns.set(style=\"darkgrid\")"
      ],
      "metadata": {
        "id": "SWZ6COw4nA2E"
      },
      "execution_count": null,
      "outputs": []
    },
    {
      "cell_type": "markdown",
      "source": [
        "##### 1. Why did you pick the specific chart?"
      ],
      "metadata": {
        "id": "iky9q4vBYrdO"
      }
    },
    {
      "cell_type": "markdown",
      "source": [
        "The swarm plot was chosen to analyze the relationship between \"price_range\" and \"ram\" variables."
      ],
      "metadata": {
        "id": "aJRCwT6DYrdO"
      }
    },
    {
      "cell_type": "markdown",
      "source": [
        "##### 2. What is/are the insight(s) found from the chart?"
      ],
      "metadata": {
        "id": "F6T5p64dYrdO"
      }
    },
    {
      "cell_type": "markdown",
      "source": [
        "The insights gained from the chart include understanding the distribution of \"ram\" values across different \"price_range\" categories."
      ],
      "metadata": {
        "id": "Xx8WAJvtYrdO"
      }
    },
    {
      "cell_type": "markdown",
      "source": [
        "##### 3. Will the gained insights help creating a positive business impact? \n",
        "Are there any insights that lead to negative growth? Justify with specific reason."
      ],
      "metadata": {
        "id": "y-Ehk30pYrdP"
      }
    },
    {
      "cell_type": "markdown",
      "source": [
        "The gained insights can potentially lead to a positive business impact by informing pricing strategies and product positioning. However, without specific data and analysis, it's challenging to determine any negative growth insights."
      ],
      "metadata": {
        "id": "jLNxxz7MYrdP"
      }
    },
    {
      "cell_type": "markdown",
      "source": [
        "#### Chart - 5. Exploring Relationship Between RAM and Price Range: Scatter Plot Visualization"
      ],
      "metadata": {
        "id": "bamQiAODYuh1"
      }
    },
    {
      "cell_type": "code",
      "source": [
        "# Visualization 5: Scatter Plot of RAM vs. Price Range\n",
        "plt.figure(figsize=(8, 6))\n",
        "plt.scatter(data['ram'], data['price_range'])\n",
        "plt.xlabel('RAM')\n",
        "plt.ylabel('Price Range')\n",
        "plt.title('RAM vs. Price Range')\n",
        "plt.show()"
      ],
      "metadata": {
        "id": "TIJwrbroYuh3"
      },
      "execution_count": null,
      "outputs": []
    },
    {
      "cell_type": "markdown",
      "source": [
        "##### 1. Why did you pick the specific chart?"
      ],
      "metadata": {
        "id": "QHF8YVU7Yuh3"
      }
    },
    {
      "cell_type": "markdown",
      "source": [
        "The specific chart chosen is a scatter plot because it effectively visualizes the relationship between two numerical variables, 'RAM' and 'Price Range'."
      ],
      "metadata": {
        "id": "dcxuIMRPYuh3"
      }
    },
    {
      "cell_type": "markdown",
      "source": [
        "##### 2. What is/are the insight(s) found from the chart?"
      ],
      "metadata": {
        "id": "GwzvFGzlYuh3"
      }
    },
    {
      "cell_type": "markdown",
      "source": [
        "The scatter plot provides insights into the relationship between 'RAM' and 'Price Range'. It helps identify any patterns, clusters, outliers, or dependencies between these variables."
      ],
      "metadata": {
        "id": "uyqkiB8YYuh3"
      }
    },
    {
      "cell_type": "markdown",
      "source": [
        "##### 3. Will the gained insights help creating a positive business impact? \n",
        "Are there any insights that lead to negative growth? Justify with specific reason."
      ],
      "metadata": {
        "id": "qYpmQ266Yuh3"
      }
    },
    {
      "cell_type": "markdown",
      "source": [
        "The gained insights from the scatter plot can potentially have a positive business impact by informing decisions related to product pricing, positioning, and understanding customer preferences. However, the scatter plot alone does not directly indicate negative growth. Identifying negative growth would require a more comprehensive analysis considering additional factors beyond the scatter plot."
      ],
      "metadata": {
        "id": "_WtzZ_hCYuh4"
      }
    },
    {
      "cell_type": "markdown",
      "source": [
        "#### Chart - 6.  Analyzing Relationship Between Battery Power and Price Range: Scatter Plot Visualization"
      ],
      "metadata": {
        "id": "OH-pJp9IphqM"
      }
    },
    {
      "cell_type": "code",
      "source": [
        "# Visualization 6: Scatter Plot of Battery Power vs. Price Range\n",
        "plt.figure(figsize=(8, 6))\n",
        "plt.scatter(data['battery_power'], data['price_range'])\n",
        "plt.xlabel('Battery Power')\n",
        "plt.ylabel('Price Range')\n",
        "plt.title('Battery Power vs. Price Range')\n",
        "plt.show()"
      ],
      "metadata": {
        "id": "kuRf4wtuphqN"
      },
      "execution_count": null,
      "outputs": []
    },
    {
      "cell_type": "markdown",
      "source": [
        "##### 1. Why did you pick the specific chart?"
      ],
      "metadata": {
        "id": "bbFf2-_FphqN"
      }
    },
    {
      "cell_type": "markdown",
      "source": [
        "The specific chart chosen is a scatter plot as it effectively displays the relationship between 'Battery Power' and 'Price Range'."
      ],
      "metadata": {
        "id": "loh7H2nzphqN"
      }
    },
    {
      "cell_type": "markdown",
      "source": [
        "##### 2. What is/are the insight(s) found from the chart?"
      ],
      "metadata": {
        "id": "_ouA3fa0phqN"
      }
    },
    {
      "cell_type": "markdown",
      "source": [
        "The scatter plot provides insights into the relationship between 'Battery Power' and 'Price Range':\n",
        "\n",
        "* Each data point represents a device with specific 'Battery Power' and 'Price Range' values.\n",
        "* The x-axis represents 'Battery Power', and the y-axis represents 'Price Range'."
      ],
      "metadata": {
        "id": "VECbqPI7phqN"
      }
    },
    {
      "cell_type": "markdown",
      "source": [
        "##### 3. Will the gained insights help creating a positive business impact? \n",
        "Are there any insights that lead to negative growth? Justify with specific reason."
      ],
      "metadata": {
        "id": "Seke61FWphqN"
      }
    },
    {
      "cell_type": "markdown",
      "source": [
        "The gained insights from the scatter plot can have a positive business impact:\n",
        "\n",
        "* Understanding the relationship between 'Battery Power' and 'Price Range' can aid in pricing strategies and product positioning decisions.\n",
        "* It provides insights into customer preferences based on different battery power levels and their corresponding price ranges."
      ],
      "metadata": {
        "id": "DW4_bGpfphqN"
      }
    },
    {
      "cell_type": "markdown",
      "source": [
        "#### Chart - 7. Evaluating Price Range Distribution: Pie Chart Visualization"
      ],
      "metadata": {
        "id": "PIIx-8_IphqN"
      }
    },
    {
      "cell_type": "code",
      "source": [
        "# Count the number of occurrences of each value in the 'price_range' column\n",
        "value_counts = pd.value_counts(data['price_range'])\n",
        "\n",
        "# Define the label strings using f-strings\n",
        "label = [f'{\"Very high\" if i==0 else \"High\" if i==1 else \"Medium\" if i==2 else \"Low\"} cost' for i in range(len(value_counts))]\n",
        "\n",
        "# Define the colors for each pie slice\n",
        "colors = ['#4d9b68', '#538e8a', '#468e71', '#59ae8c']\n",
        "\n",
        "# Create a pie chart with percentage values formatted with a % sign and explode the slices\n",
        "fig, ax = plt.subplots()\n",
        "ax.pie(value_counts.values, autopct='%0.1f%%', explode=[0.1, 0.1, 0.1, 0.1], shadow=True, labels=label, colors=colors)\n",
        "\n",
        "# Set the title of the pie chart\n",
        "ax.set_title('Balanced or Imbalanced?')\n",
        "\n",
        "# Show the pie chart\n",
        "plt.show()"
      ],
      "metadata": {
        "id": "lqAIGUfyphqO"
      },
      "execution_count": null,
      "outputs": []
    },
    {
      "cell_type": "markdown",
      "source": [
        "##### 1. Why did you pick the specific chart?"
      ],
      "metadata": {
        "id": "t27r6nlMphqO"
      }
    },
    {
      "cell_type": "markdown",
      "source": [
        "A pie chart was chosen because it effectively represents the distribution of categorical data, such as the 'price_range' column."
      ],
      "metadata": {
        "id": "iv6ro40sphqO"
      }
    },
    {
      "cell_type": "markdown",
      "source": [
        "##### 2. What is/are the insight(s) found from the chart?"
      ],
      "metadata": {
        "id": "r2jJGEOYphqO"
      }
    },
    {
      "cell_type": "markdown",
      "source": [
        "The chart provides insights into the proportions of different price range categories in the data."
      ],
      "metadata": {
        "id": "Po6ZPi4hphqO"
      }
    },
    {
      "cell_type": "markdown",
      "source": [
        "##### 3. Will the gained insights help creating a positive business impact? \n",
        "Are there any insights that lead to negative growth? Justify with specific reason."
      ],
      "metadata": {
        "id": "b0JNsNcRphqO"
      }
    },
    {
      "cell_type": "markdown",
      "source": [
        "The gained insights can potentially have a positive business impact by informing decisions related to pricing, marketing, and product offerings. The chart alone does not indicate negative growth; identifying negative growth would require further analysis and consideration of other factors."
      ],
      "metadata": {
        "id": "xvSq8iUTphqO"
      }
    },
    {
      "cell_type": "markdown",
      "source": [
        "#### Chart - 8. Comparing RAM Distribution across Price Ranges: Box Plot Visualization"
      ],
      "metadata": {
        "id": "BZR9WyysphqO"
      }
    },
    {
      "cell_type": "code",
      "source": [
        "# Visualization 8: Box Plot of RAM across Price Ranges\n",
        "plt.figure(figsize=(8, 6))\n",
        "sns.boxplot(x=data['price_range'], y=data['ram'])\n",
        "plt.xlabel('Price Range')\n",
        "plt.ylabel('RAM')\n",
        "plt.title('RAM across Price Ranges')\n",
        "plt.show()"
      ],
      "metadata": {
        "id": "TdPTWpAVphqO"
      },
      "execution_count": null,
      "outputs": []
    },
    {
      "cell_type": "markdown",
      "source": [
        "##### 1. Why did you pick the specific chart?"
      ],
      "metadata": {
        "id": "jj7wYXLtphqO"
      }
    },
    {
      "cell_type": "markdown",
      "source": [
        "A box plot was chosen because it effectively visualizes the distribution of the 'RAM' variable across different price ranges."
      ],
      "metadata": {
        "id": "Ob8u6rCTphqO"
      }
    },
    {
      "cell_type": "markdown",
      "source": [
        "##### 2. What is/are the insight(s) found from the chart?"
      ],
      "metadata": {
        "id": "eZrbJ2SmphqO"
      }
    },
    {
      "cell_type": "markdown",
      "source": [
        "The chart provides insights into the central tendencies, spreads, and outliers in RAM values for each price range category."
      ],
      "metadata": {
        "id": "mZtgC_hjphqO"
      }
    },
    {
      "cell_type": "markdown",
      "source": [
        "##### 3. Will the gained insights help creating a positive business impact? \n",
        "Are there any insights that lead to negative growth? Justify with specific reason."
      ],
      "metadata": {
        "id": "rFu4xreNphqO"
      }
    },
    {
      "cell_type": "markdown",
      "source": [
        "The gained insights can potentially have a positive business impact by informing decisions related to product positioning, pricing, and market segmentation. The box plot alone does not indicate negative growth; identifying negative growth would require further analysis and consideration of other factors."
      ],
      "metadata": {
        "id": "ey_0qi68phqO"
      }
    },
    {
      "cell_type": "markdown",
      "source": [
        "#### Chart - 9.  Analyzing Screen Height Distribution: Histogram Visualization"
      ],
      "metadata": {
        "id": "YJ55k-q6phqO"
      }
    },
    {
      "cell_type": "code",
      "source": [
        "# Visualization 9: Histogram of Screen Height\n",
        "plt.figure(figsize=(8, 6))\n",
        "plt.hist(data['px_height'], bins=10, edgecolor='black')\n",
        "plt.xlabel('Screen Height')\n",
        "plt.ylabel('Frequency')\n",
        "plt.title('Histogram of Screen Height')\n",
        "plt.show()"
      ],
      "metadata": {
        "id": "B2aS4O1ophqO"
      },
      "execution_count": null,
      "outputs": []
    },
    {
      "cell_type": "markdown",
      "source": [
        "##### 1. Why did you pick the specific chart?"
      ],
      "metadata": {
        "id": "gCFgpxoyphqP"
      }
    },
    {
      "cell_type": "markdown",
      "source": [
        "A histogram was chosen because it effectively displays the distribution of screen heights."
      ],
      "metadata": {
        "id": "TVxDimi2phqP"
      }
    },
    {
      "cell_type": "markdown",
      "source": [
        "##### 2. What is/are the insight(s) found from the chart?"
      ],
      "metadata": {
        "id": "OVtJsKN_phqQ"
      }
    },
    {
      "cell_type": "markdown",
      "source": [
        "The histogram provides insights into the distribution of screen heights, showing the frequency or count of devices for each screen height value."
      ],
      "metadata": {
        "id": "ngGi97qjphqQ"
      }
    },
    {
      "cell_type": "markdown",
      "source": [
        "##### 3. Will the gained insights help creating a positive business impact? \n",
        "Are there any insights that lead to negative growth? Justify with specific reason."
      ],
      "metadata": {
        "id": "lssrdh5qphqQ"
      }
    },
    {
      "cell_type": "markdown",
      "source": [
        "The gained insights from the histogram can have a positive business impact by informing product design decisions and identifying popular screen height ranges. However, the histogram alone does not directly indicate negative growth. Further analysis is required to assess negative growth factors."
      ],
      "metadata": {
        "id": "tBpY5ekJphqQ"
      }
    },
    {
      "cell_type": "markdown",
      "source": [
        "#### Chart - 10.  Analyzing Binary Feature Distribution and Price Range Relationship: Pie Chart and Countplot Visualization"
      ],
      "metadata": {
        "id": "U2RJ9gkRphqQ"
      }
    },
    {
      "cell_type": "code",
      "source": [
        "# Plot of binary features against price range\n",
        "binary_features = [ 'four_g', 'three_g']\n",
        "for col in binary_features:\n",
        "  fig, (ax1, ax2) = plt.subplots(ncols = 2, figsize = (15, 6))\n",
        "\n",
        "  data[col].value_counts().plot.pie (autopct='%1.1f%%', ax = ax1, shadow=True, labeldistance=None)\n",
        "  ax1.set_title('Distribution by price range')\n",
        "  ax1.legend(['Support', 'Does not Support'])\n",
        "  sns.countplot(x = col, hue = 'price_range', data = data, ax = ax2, color = 'pink')\n",
        "  ax2.set_title('Distribution by price range')\n",
        "  ax2.set_xlabel(col)\n",
        "  ax2.legend(['Low Cost', 'Medium Cost', 'High Cost', 'Very High Cost'])\n",
        "  ax2.set_xticklabels(['Does not Support', 'Support'])"
      ],
      "metadata": {
        "id": "GM7a4YP4phqQ"
      },
      "execution_count": null,
      "outputs": []
    },
    {
      "cell_type": "markdown",
      "source": [
        "##### 1. Why did you pick the specific chart?"
      ],
      "metadata": {
        "id": "1M8mcRywphqQ"
      }
    },
    {
      "cell_type": "markdown",
      "source": [
        "The specific charts chosen are a pie chart and a countplot. The pie chart is used to show the distribution of binary feature values within each price range category, while the countplot displays the count of binary feature values for different price ranges."
      ],
      "metadata": {
        "id": "8agQvks0phqQ"
      }
    },
    {
      "cell_type": "markdown",
      "source": [
        "##### 2. What is/are the insight(s) found from the chart?"
      ],
      "metadata": {
        "id": "tgIPom80phqQ"
      }
    },
    {
      "cell_type": "markdown",
      "source": [
        "The charts provide insights into the relationship between binary features and price range:\n",
        "\n",
        "* The pie chart shows the proportion of 'Support' and 'Does not Support' values within each price range category.\n",
        "* The countplot compares the count of 'Support' and 'Does not Support' values across different price range categories.\n",
        "These insights help understand the distribution and impact of binary features on different price ranges."
      ],
      "metadata": {
        "id": "Qp13pnNzphqQ"
      }
    },
    {
      "cell_type": "markdown",
      "source": [
        "##### 3. Will the gained insights help creating a positive business impact? \n",
        "Are there any insights that lead to negative growth? Justify with specific reason."
      ],
      "metadata": {
        "id": "JMzcOPDDphqR"
      }
    },
    {
      "cell_type": "markdown",
      "source": [
        "The gained insights from the charts can have a positive business impact:\n",
        "\n",
        "* Understanding the distribution of binary feature values across price ranges can inform product development and marketing strategies.\n",
        "* It helps in assessing the relationship between binary features and price range, which can influence pricing decisions and customer preferences."
      ],
      "metadata": {
        "id": "R4Ka1PC2phqR"
      }
    },
    {
      "cell_type": "markdown",
      "source": [
        "#### Chart - 11.  Exploring Bluetooth Usage: Pie Chart Visualization"
      ],
      "metadata": {
        "id": "x-EpHcCOp1ci"
      }
    },
    {
      "cell_type": "code",
      "source": [
        "# create pie chart of 'blue' column values\n",
        "fig = px.pie(data['blue'].value_counts().reset_index(), values = 'blue',\n",
        "             names = ['No', 'Yes'])\n",
        "\n",
        "# customize chart with text, hole, and marker\n",
        "fig.update_traces(textposition = 'inside', \n",
        "                  textinfo = 'percent + label', \n",
        "                  hole = 0.6, \n",
        "                  marker = dict(colors = ['#4863A0','#00CED1'],\n",
        "                                line = dict(color = 'white', width = 3)))\n",
        "\n",
        "# customize layout with title and legend\n",
        "fig.update_layout(annotations = [dict(text = 'Bluetooth', \n",
        "                                      x = 0.5, y = 0.5,\n",
        "                                      font_size = 24, showarrow = False, \n",
        "                                      font_family = 'Verdana',\n",
        "                                      font_color = 'black')],\n",
        "                  showlegend = False)\n",
        "\n",
        "# display the chart\n",
        "fig.show()"
      ],
      "metadata": {
        "id": "mAQTIvtqp1cj"
      },
      "execution_count": null,
      "outputs": []
    },
    {
      "cell_type": "markdown",
      "source": [
        "##### 1. Why did you pick the specific chart?"
      ],
      "metadata": {
        "id": "X_VqEhTip1ck"
      }
    },
    {
      "cell_type": "markdown",
      "source": [
        "The specific chart chosen is a pie chart as it effectively visualizes the distribution of 'blue' column values."
      ],
      "metadata": {
        "id": "-vsMzt_np1ck"
      }
    },
    {
      "cell_type": "markdown",
      "source": [
        "##### 2. What is/are the insight(s) found from the chart?"
      ],
      "metadata": {
        "id": "8zGJKyg5p1ck"
      }
    },
    {
      "cell_type": "markdown",
      "source": [
        "The pie chart provides insights into the distribution of 'blue' column values:\n",
        "\n",
        "* It shows the proportion of 'No' and 'Yes' values in the 'blue' column.\n",
        "* The size of each slice represents the relative frequency or percentage of each category."
      ],
      "metadata": {
        "id": "ZYdMsrqVp1ck"
      }
    },
    {
      "cell_type": "markdown",
      "source": [
        "##### 3. Will the gained insights help creating a positive business impact? \n",
        "Are there any insights that lead to negative growth? Justify with specific reason."
      ],
      "metadata": {
        "id": "PVzmfK_Ep1ck"
      }
    },
    {
      "cell_type": "markdown",
      "source": [
        "The gained insights from the pie chart can have a positive business impact:\n",
        "\n",
        "* Understanding the distribution of Bluetooth availability ('Yes' or 'No') helps in assessing customer preferences and market demand.\n",
        "* It can aid in making informed decisions regarding product features, marketing strategies, and customer targeting."
      ],
      "metadata": {
        "id": "druuKYZpp1ck"
      }
    },
    {
      "cell_type": "markdown",
      "source": [
        "#### Chart - 12. Examining Relationship Between Internal Memory and Price Range: Scatter Plot Visualization"
      ],
      "metadata": {
        "id": "n3dbpmDWp1ck"
      }
    },
    {
      "cell_type": "code",
      "source": [
        "plt.figure(figsize=(8, 6))\n",
        "sns.scatterplot(data=data, x='int_memory', y='price_range', hue='price_range', palette='viridis')\n",
        "plt.xlabel('Internal Memory')\n",
        "plt.ylabel('Price Range')\n",
        "plt.title('Internal Memory vs. Price Range')\n",
        "plt.show()"
      ],
      "metadata": {
        "id": "Nef6dNTCJloJ"
      },
      "execution_count": null,
      "outputs": []
    },
    {
      "cell_type": "markdown",
      "source": [
        "##### 1. Why did you pick the specific chart?"
      ],
      "metadata": {
        "id": "ylSl6qgtp1ck"
      }
    },
    {
      "cell_type": "markdown",
      "source": [
        "A scatter plot was chosen because it effectively displays the relationship between internal memory and price range."
      ],
      "metadata": {
        "id": "m2xqNkiQp1ck"
      }
    },
    {
      "cell_type": "markdown",
      "source": [
        "##### 2. What is/are the insight(s) found from the chart?"
      ],
      "metadata": {
        "id": "ZWILFDl5p1ck"
      }
    },
    {
      "cell_type": "markdown",
      "source": [
        "The scatter plot provides insights into how internal memory relates to the price range, showing if there is a correlation or relationship between the two variables."
      ],
      "metadata": {
        "id": "x-lUsV2mp1ck"
      }
    },
    {
      "cell_type": "markdown",
      "source": [
        "##### 3. Will the gained insights help creating a positive business impact? \n",
        "Are there any insights that lead to negative growth? Justify with specific reason."
      ],
      "metadata": {
        "id": "M7G43BXep1ck"
      }
    },
    {
      "cell_type": "markdown",
      "source": [
        "The gained insights from the scatter plot can have a positive business impact by informing pricing decisions and product positioning strategies. However, the scatter plot alone does not directly indicate negative growth. Additional analysis is needed to evaluate negative growth factors."
      ],
      "metadata": {
        "id": "5wwDJXsLp1cl"
      }
    },
    {
      "cell_type": "markdown",
      "source": [
        "#### Chart - 13. Analyzing Relationship Between Screen Height and Price Range: Scatter Plot Visualization"
      ],
      "metadata": {
        "id": "Ag9LCva-p1cl"
      }
    },
    {
      "cell_type": "code",
      "source": [
        "# Visualization 13: Scatter Plot of Screen Height vs. Price Range\n",
        "plt.figure(figsize=(8, 6))\n",
        "sns.scatterplot(data=data, x='px_height', y='price_range', hue='price_range', palette='viridis', alpha=0.7)\n",
        "plt.xlabel('Screen Height')\n",
        "plt.ylabel('Price Range')\n",
        "plt.title('Screen Height vs. Price Range')\n",
        "plt.show()"
      ],
      "metadata": {
        "id": "JnoRixuVKXFI"
      },
      "execution_count": null,
      "outputs": []
    },
    {
      "cell_type": "markdown",
      "source": [
        "##### 1. Why did you pick the specific chart?"
      ],
      "metadata": {
        "id": "E6MkPsBcp1cl"
      }
    },
    {
      "cell_type": "markdown",
      "source": [
        "The scatter plot was chosen because it effectively displays the relationship between \"Screen Height\" and \"Price Range\" variables."
      ],
      "metadata": {
        "id": "V22bRsFWp1cl"
      }
    },
    {
      "cell_type": "markdown",
      "source": [
        "##### 2. What is/are the insight(s) found from the chart?"
      ],
      "metadata": {
        "id": "2cELzS2fp1cl"
      }
    },
    {
      "cell_type": "markdown",
      "source": [
        "The scatter plot helps visualize any patterns or correlations between the variables, allowing for a better understanding of their relationship."
      ],
      "metadata": {
        "id": "ozQPc2_Ip1cl"
      }
    },
    {
      "cell_type": "markdown",
      "source": [
        "##### 3. Will the gained insights help creating a positive business impact? \n",
        "Are there any insights that lead to negative growth? Justify with specific reason."
      ],
      "metadata": {
        "id": "3MPXvC8up1cl"
      }
    },
    {
      "cell_type": "markdown",
      "source": [
        "The insights gained from the scatter plot can potentially aid in making informed business decisions, such as pricing strategies or product development. However, the specific impact on business growth and whether there are any negative consequences would depend on the context and further analysis of the data."
      ],
      "metadata": {
        "id": "GL8l1tdLp1cl"
      }
    },
    {
      "cell_type": "markdown",
      "source": [
        "#### Chart - 14 - Correlation Heatmap"
      ],
      "metadata": {
        "id": "NC_X3p0fY2L0"
      }
    },
    {
      "cell_type": "code",
      "source": [
        "# Visualization 14: Scatter Plot of Screen Width vs. Price Range\n",
        "corr_matrix = data.corr()\n",
        "plt.figure(figsize=(20, 10))\n",
        "sns.heatmap(corr_matrix, annot=True)\n",
        "plt.title('Correlation Matrix')\n",
        "plt.show()"
      ],
      "metadata": {
        "id": "xyC9zolEZNRQ"
      },
      "execution_count": null,
      "outputs": []
    },
    {
      "cell_type": "markdown",
      "source": [
        "##### 1. Why did you pick the specific chart?"
      ],
      "metadata": {
        "id": "UV0SzAkaZNRQ"
      }
    },
    {
      "cell_type": "markdown",
      "source": [
        "A correlation matrix is a table showing correlation coefficients between variables. Each cell in the table shows the correlation between two variables. A correlation matrix is used to summarize data, as an input into a more advanced analysis, and as a diagnostic for advanced analyses. The range of correlation is [-1,1].\n",
        "\n",
        "Thus to know the correlation between all the variables along with the correlation coefficients, i used correlation heatmap"
      ],
      "metadata": {
        "id": "DVPuT8LYZNRQ"
      }
    },
    {
      "cell_type": "markdown",
      "source": [
        "##### 2. What is/are the insight(s) found from the chart?"
      ],
      "metadata": {
        "id": "YPEH6qLeZNRQ"
      }
    },
    {
      "cell_type": "markdown",
      "source": [
        "From the above correlation heatmap, 1.we can see total price range are positiveliy highly correlated with a value of 1.\n",
        "\n",
        "2.we can see total ram are correlated with a value of 92%.\n",
        "\n",
        "3.we can see total pc and fc are correlated with a value of 65%.\n",
        "\n",
        "price range is positively correlated only with all features and negative correlated with rest variables.\n",
        "\n",
        "Rest all correlation can be depicted from the above chart."
      ],
      "metadata": {
        "id": "bfSqtnDqZNRR"
      }
    },
    {
      "cell_type": "markdown",
      "source": [
        "#### Chart - 15 - Pair Plot "
      ],
      "metadata": {
        "id": "q29F0dvdveiT"
      }
    },
    {
      "cell_type": "code",
      "source": [
        "sns.pairplot(data)\n",
        "plt.show()"
      ],
      "metadata": {
        "id": "o58-TEIhveiU"
      },
      "execution_count": null,
      "outputs": []
    },
    {
      "cell_type": "markdown",
      "source": [
        "##### 1. Why did you pick the specific chart?"
      ],
      "metadata": {
        "id": "EXh0U9oCveiU"
      }
    },
    {
      "cell_type": "markdown",
      "source": [
        "Pair plot is used to understand the best set of features to explain a relationship between two variables or to form the most separated clusters. It also helps to form some simple classification models by drawing some simple lines or make linear separation in our data-set.\n",
        "\n",
        "Thus, I used pair plot to analyse the patterns of data and realationship between the features. It's exactly same as the correlation map but here you will get the graphical representation."
      ],
      "metadata": {
        "id": "eMmPjTByveiU"
      }
    },
    {
      "cell_type": "markdown",
      "source": [
        "##### 2. What is/are the insight(s) found from the chart?"
      ],
      "metadata": {
        "id": "22aHeOlLveiV"
      }
    },
    {
      "cell_type": "markdown",
      "source": [
        "From the above chart I got to know, there are less linear relationship between variables and data points aren't linearly separable.Mobile price range is clusetered. Some of the above features are linearly dependent on price range like ram, internal memory, processors and so on."
      ],
      "metadata": {
        "id": "uPQ8RGwHveiV"
      }
    },
    {
      "cell_type": "markdown",
      "source": [
        "## ***5. Hypothesis Testing***"
      ],
      "metadata": {
        "id": "g-ATYxFrGrvw"
      }
    },
    {
      "cell_type": "markdown",
      "source": [
        "### Based on your chart experiments, define three hypothetical statements from the dataset. In the next three questions, perform hypothesis testing to obtain final conclusion about the statements through your code and statistical testing."
      ],
      "metadata": {
        "id": "Yfr_Vlr8HBkt"
      }
    },
    {
      "cell_type": "markdown",
      "source": [
        "Certainly! Here are the final conclusions for each hypothesis statement:\n",
        "\n",
        "Hypothesis Statement 1: The average battery power is significantly different for mobile phones in price range 1 compared to price range 2.\n",
        "\n",
        "Hypothesis Statement 2: There is a significant association between the presence of a dual SIM card and the presence of 4G connectivity in mobile phones.\n",
        "\n",
        "Hypothesis Statement 3: The average RAM is significantly higher for mobile phones with a touch screen compared to those without a touch screen."
      ],
      "metadata": {
        "id": "-7MS06SUHkB-"
      }
    },
    {
      "cell_type": "markdown",
      "source": [
        "### Hypothetical Statement - 1"
      ],
      "metadata": {
        "id": "8yEUt7NnHlrM"
      }
    },
    {
      "cell_type": "markdown",
      "source": [
        "#### 1. State Your research hypothesis as a null hypothesis and alternate hypothesis."
      ],
      "metadata": {
        "id": "tEA2Xm5dHt1r"
      }
    },
    {
      "cell_type": "markdown",
      "source": [
        "The average battery power is significantly different for mobile phones in price range 1 compared to price range 2.\n",
        "* Null Hypothesis (H0): The average battery power for mobile phones in price range 1 is equal to the average battery power for mobile phones in price range 2.\n",
        "* Alternative Hypothesis (Ha): The average battery power for mobile phones in price range 1 is significantly different from the average battery power for mobile phones in price range 2."
      ],
      "metadata": {
        "id": "HI9ZP0laH0D-"
      }
    },
    {
      "cell_type": "markdown",
      "source": [
        "#### 2. Perform an appropriate statistical test."
      ],
      "metadata": {
        "id": "I79__PHVH19G"
      }
    },
    {
      "cell_type": "code",
      "source": [
        "# Hypothetical Statement 1: Battery Power in Price Ranges\n",
        "price_range_1 = data[data[\"price_range\"] == 1][\"battery_power\"]\n",
        "price_range_2 = data[data[\"price_range\"] == 2][\"battery_power\"]\n",
        "t_statistic, p_value = ttest_ind(price_range_1, price_range_2)\n",
        "print(\"Hypothetical Statement 1: Battery Power in Price Ranges\")\n",
        "print(f\"P-Value: {p_value}\")"
      ],
      "metadata": {
        "id": "h_wvyvfpULqY"
      },
      "execution_count": null,
      "outputs": []
    },
    {
      "cell_type": "markdown",
      "source": [
        "##### Which statistical test have you done to obtain P-Value?"
      ],
      "metadata": {
        "id": "Ou-I18pAyIpj"
      }
    },
    {
      "cell_type": "markdown",
      "source": [
        "A two-sample t-test was performed using the 'ttest_ind' function from the 'scipy.stats' module."
      ],
      "metadata": {
        "id": "s2U0kk00ygSB"
      }
    },
    {
      "cell_type": "markdown",
      "source": [
        "##### Why did you choose the specific statistical test?"
      ],
      "metadata": {
        "id": "fF3858GYyt-u"
      }
    },
    {
      "cell_type": "markdown",
      "source": [
        " The research question involves comparing the means of a continuous variable (battery power) between two independent groups (price range 1 and price range 2). In this case, a two-sample t-test is appropriate as it allows us to assess whether the means of the two groups are significantly different."
      ],
      "metadata": {
        "id": "HO4K0gP5y3B4"
      }
    },
    {
      "cell_type": "markdown",
      "source": [
        "### Hypothetical Statement - 2"
      ],
      "metadata": {
        "id": "4_0_7-oCpUZd"
      }
    },
    {
      "cell_type": "markdown",
      "source": [
        "#### 1. State Your research hypothesis as a null hypothesis and alternate hypothesis."
      ],
      "metadata": {
        "id": "hwyV_J3ipUZe"
      }
    },
    {
      "cell_type": "markdown",
      "source": [
        "There is a significant association between the presence of a dual SIM card and the presence of 4G connectivity in mobile phones.\n",
        "* Null Hypothesis (H0): There is no association between the presence of a dual SIM card and the presence of 4G connectivity in mobile phones.\n",
        "* Alternative Hypothesis (Ha): There is a significant association between the presence of a dual SIM card and the presence of 4G connectivity in mobile phones."
      ],
      "metadata": {
        "id": "FnpLGJ-4pUZe"
      }
    },
    {
      "cell_type": "markdown",
      "source": [
        "#### 2. Perform an appropriate statistical test."
      ],
      "metadata": {
        "id": "3yB-zSqbpUZe"
      }
    },
    {
      "cell_type": "code",
      "source": [
        "# Perform Statistical Test to obtain P-Value\n",
        "# Create a contingency table of dual SIM and 4G connectivity\n",
        "contingency_table = pd.crosstab(data[\"dual_sim\"], data[\"four_g\"])\n",
        "\n",
        "# Perform the chi-square test\n",
        "chi2_statistic, p_value, _, _ = chi2_contingency(contingency_table)\n",
        "\n",
        "# Print the results\n",
        "print(\"Hypothetical Statement 2: Dual SIM and 4G Connectivity\")\n",
        "print(f\"P-Value: {p_value}\")"
      ],
      "metadata": {
        "id": "sWxdNTXNpUZe"
      },
      "execution_count": null,
      "outputs": []
    },
    {
      "cell_type": "markdown",
      "source": [
        "##### Which statistical test have you done to obtain P-Value?"
      ],
      "metadata": {
        "id": "dEUvejAfpUZe"
      }
    },
    {
      "cell_type": "markdown",
      "source": [
        "A chi-square test of independence was performed using the 'chi2_contingency' function from the 'scipy.stats' module."
      ],
      "metadata": {
        "id": "oLDrPz7HpUZf"
      }
    },
    {
      "cell_type": "markdown",
      "source": [
        "##### Why did you choose the specific statistical test?"
      ],
      "metadata": {
        "id": "Fd15vwWVpUZf"
      }
    },
    {
      "cell_type": "markdown",
      "source": [
        "The research question focuses on examining the association between two categorical variables (dual SIM and 4G connectivity). To evaluate this association, a chi-square test of independence is commonly used. It helps determine whether the observed association in the contingency table is statistically significant or whether it could be due to chance."
      ],
      "metadata": {
        "id": "4xOGYyiBpUZf"
      }
    },
    {
      "cell_type": "markdown",
      "source": [
        "### Hypothetical Statement - 3"
      ],
      "metadata": {
        "id": "bn_IUdTipZyH"
      }
    },
    {
      "cell_type": "markdown",
      "source": [
        "#### 1. State Your research hypothesis as a null hypothesis and alternate hypothesis."
      ],
      "metadata": {
        "id": "49K5P_iCpZyH"
      }
    },
    {
      "cell_type": "markdown",
      "source": [
        "The average RAM is significantly higher for mobile phones with a touch screen compared to those without a touch screen.\n",
        "* Null Hypothesis (H0): The average RAM for mobile phones with a touch screen is equal to the average RAM for mobile phones without a touch screen.\n",
        "* Alternative Hypothesis (Ha): The average RAM for mobile phones with a touch screen is significantly higher than the average RAM for mobile phones without a touch screen."
      ],
      "metadata": {
        "id": "7gWI5rT9pZyH"
      }
    },
    {
      "cell_type": "markdown",
      "source": [
        "#### 2. Perform an appropriate statistical test."
      ],
      "metadata": {
        "id": "Nff-vKELpZyI"
      }
    },
    {
      "cell_type": "code",
      "source": [
        "# Perform Statistical Test to obtain P-Value\n",
        "touch_screen_ram = data[data[\"touch_screen\"] == 1][\"ram\"]\n",
        "no_touch_screen_ram = data[data[\"touch_screen\"] == 0][\"ram\"]\n",
        "\n",
        "# Perform the two-sample t-test\n",
        "t_statistic, p_value = ttest_ind(touch_screen_ram, no_touch_screen_ram)\n",
        "\n",
        "# Print the results\n",
        "print(\"Hypothetical Statement 3: RAM and Touch Screen\")\n",
        "print(f\"P-Value: {p_value}\")"
      ],
      "metadata": {
        "id": "s6AnJQjtpZyI"
      },
      "execution_count": null,
      "outputs": []
    },
    {
      "cell_type": "markdown",
      "source": [
        "##### Which statistical test have you done to obtain P-Value?"
      ],
      "metadata": {
        "id": "kLW572S8pZyI"
      }
    },
    {
      "cell_type": "markdown",
      "source": [
        "A two-sample t-test was again used with the 'ttest_ind' function from the 'scipy.stats' module."
      ],
      "metadata": {
        "id": "ytWJ8v15pZyI"
      }
    },
    {
      "cell_type": "markdown",
      "source": [
        "##### Why did you choose the specific statistical test?"
      ],
      "metadata": {
        "id": "dWbDXHzopZyI"
      }
    },
    {
      "cell_type": "markdown",
      "source": [
        "This research question involves comparing the means of a continuous variable (RAM) between two independent groups (touch screen and no touch screen). Similar to the first statement, a two-sample t-test is suitable for comparing the means of two groups and determining whether there is a statistically significant difference between them."
      ],
      "metadata": {
        "id": "M99G98V6pZyI"
      }
    },
    {
      "cell_type": "markdown",
      "source": [
        "## ***6. Feature Engineering & Data Pre-processing***"
      ],
      "metadata": {
        "id": "yLjJCtPM0KBk"
      }
    },
    {
      "cell_type": "markdown",
      "source": [
        "### 1. Handling Missing Values"
      ],
      "metadata": {
        "id": "xiyOF9F70UgQ"
      }
    },
    {
      "cell_type": "code",
      "source": [
        "# Handling Missing Values & Missing Value Imputation\n",
        "data.isnull().sum()"
      ],
      "metadata": {
        "id": "iRsAHk1K0fpS"
      },
      "execution_count": null,
      "outputs": []
    },
    {
      "cell_type": "markdown",
      "source": [
        "#### What all missing value imputation techniques have you used and why did you use those techniques?"
      ],
      "metadata": {
        "id": "7wuGOrhz0itI"
      }
    },
    {
      "cell_type": "markdown",
      "source": [
        "Is there no any missing value."
      ],
      "metadata": {
        "id": "1ixusLtI0pqI"
      }
    },
    {
      "cell_type": "markdown",
      "source": [
        "### 2. Handling Outliers"
      ],
      "metadata": {
        "id": "id1riN9m0vUs"
      }
    },
    {
      "cell_type": "code",
      "source": [
        "# Handling Outliers & Outlier treatments\n",
        "# calculate the IQR\n",
        "Q1 = data['fc'].quantile(0.25)\n",
        "Q3 = data['fc'].quantile(0.75)\n",
        "IQR = Q3 - Q1\n",
        "\n",
        "# determine the upper and lower bounds for outliers\n",
        "lower_bound = Q1 - 1.5*IQR\n",
        "upper_bound = Q3 + 1.5*IQR\n",
        "\n",
        "# replace the outliers with the upper or lower bound value\n",
        "data.loc[data['fc'] < lower_bound, 'fc'] = lower_bound\n",
        "data.loc[data['fc'] > upper_bound, 'fc'] = upper_bound"
      ],
      "metadata": {
        "id": "M6w2CzZf04JK"
      },
      "execution_count": null,
      "outputs": []
    },
    {
      "cell_type": "markdown",
      "source": [
        "##### What all outlier treatment techniques have you used and why did you use those techniques?"
      ],
      "metadata": {
        "id": "578E2V7j08f6"
      }
    },
    {
      "cell_type": "markdown",
      "source": [
        "We have used the Interquartile Range (IQR) method to handle outliers.\n",
        "\n",
        "The IQR method involves calculating the IQR by finding the difference between the third quartile (Q3) and the first quartile (Q1). Then, the lower and upper bounds are determined by subtracting 1.5 times the IQR from Q1 and adding 1.5 times the IQR to Q3, respectively. Any data point that falls outside of these bounds is considered an outlier and is replaced with the nearest boundary value.\n",
        "\n",
        "In the provided code, we applied the IQR method to the 'fc' feature (front camera megapixels) to identify and replace the outliers with the nearest boundary value. This is a commonly used outlier treatment technique as it is robust to extreme values and does not assume a particular distribution of the data."
      ],
      "metadata": {
        "id": "uGZz5OrT1HH-"
      }
    },
    {
      "cell_type": "markdown",
      "source": [
        "### 3. Categorical Encoding"
      ],
      "metadata": {
        "id": "89xtkJwZ18nB"
      }
    },
    {
      "cell_type": "code",
      "source": [
        "# Encode your categorical columns"
      ],
      "metadata": {
        "id": "21JmIYMG2hEo"
      },
      "execution_count": null,
      "outputs": []
    },
    {
      "cell_type": "markdown",
      "source": [
        "#### What all categorical encoding techniques have you used & why did you use those techniques?"
      ],
      "metadata": {
        "id": "67NQN5KX2AMe"
      }
    },
    {
      "cell_type": "markdown",
      "source": [
        "Answer Here."
      ],
      "metadata": {
        "id": "UDaue5h32n_G"
      }
    },
    {
      "cell_type": "markdown",
      "source": [
        "### 4. Textual Data Preprocessing \n",
        "(It's mandatory for textual dataset i.e., NLP, Sentiment Analysis, Text Clustering etc.)"
      ],
      "metadata": {
        "id": "Iwf50b-R2tYG"
      }
    },
    {
      "cell_type": "markdown",
      "source": [
        "#### 1. Expand Contraction"
      ],
      "metadata": {
        "id": "GMQiZwjn3iu7"
      }
    },
    {
      "cell_type": "code",
      "source": [
        "# Expand Contraction"
      ],
      "metadata": {
        "id": "PTouz10C3oNN"
      },
      "execution_count": null,
      "outputs": []
    },
    {
      "cell_type": "markdown",
      "source": [
        "#### 2. Lower Casing"
      ],
      "metadata": {
        "id": "WVIkgGqN3qsr"
      }
    },
    {
      "cell_type": "code",
      "source": [
        "# Lower Casing"
      ],
      "metadata": {
        "id": "88JnJ1jN3w7j"
      },
      "execution_count": null,
      "outputs": []
    },
    {
      "cell_type": "markdown",
      "source": [
        "#### 3. Removing Punctuations"
      ],
      "metadata": {
        "id": "XkPnILGE3zoT"
      }
    },
    {
      "cell_type": "code",
      "source": [
        "# Remove Punctuations"
      ],
      "metadata": {
        "id": "vqbBqNaA33c0"
      },
      "execution_count": null,
      "outputs": []
    },
    {
      "cell_type": "markdown",
      "source": [
        "#### 4. Removing URLs & Removing words and digits contain digits."
      ],
      "metadata": {
        "id": "Hlsf0x5436Go"
      }
    },
    {
      "cell_type": "code",
      "source": [
        "# Remove URLs & Remove words and digits contain digits"
      ],
      "metadata": {
        "id": "2sxKgKxu4Ip3"
      },
      "execution_count": null,
      "outputs": []
    },
    {
      "cell_type": "markdown",
      "source": [
        "#### 5. Removing Stopwords & Removing White spaces"
      ],
      "metadata": {
        "id": "mT9DMSJo4nBL"
      }
    },
    {
      "cell_type": "code",
      "source": [
        "# Remove Stopwords"
      ],
      "metadata": {
        "id": "T2LSJh154s8W"
      },
      "execution_count": null,
      "outputs": []
    },
    {
      "cell_type": "code",
      "source": [
        "# Remove White spaces"
      ],
      "metadata": {
        "id": "EgLJGffy4vm0"
      },
      "execution_count": null,
      "outputs": []
    },
    {
      "cell_type": "markdown",
      "source": [
        "#### 6. Rephrase Text"
      ],
      "metadata": {
        "id": "c49ITxTc407N"
      }
    },
    {
      "cell_type": "code",
      "source": [
        "# Rephrase Text"
      ],
      "metadata": {
        "id": "foqY80Qu48N2"
      },
      "execution_count": null,
      "outputs": []
    },
    {
      "cell_type": "markdown",
      "source": [
        "#### 7. Tokenization"
      ],
      "metadata": {
        "id": "OeJFEK0N496M"
      }
    },
    {
      "cell_type": "code",
      "source": [
        "# Tokenization"
      ],
      "metadata": {
        "id": "ijx1rUOS5CUU"
      },
      "execution_count": null,
      "outputs": []
    },
    {
      "cell_type": "markdown",
      "source": [
        "#### 8. Text Normalization"
      ],
      "metadata": {
        "id": "9ExmJH0g5HBk"
      }
    },
    {
      "cell_type": "code",
      "source": [
        "# Normalizing Text (i.e., Stemming, Lemmatization etc.)"
      ],
      "metadata": {
        "id": "AIJ1a-Zc5PY8"
      },
      "execution_count": null,
      "outputs": []
    },
    {
      "cell_type": "markdown",
      "source": [
        "##### Which text normalization technique have you used and why?"
      ],
      "metadata": {
        "id": "cJNqERVU536h"
      }
    },
    {
      "cell_type": "markdown",
      "source": [
        "Answer Here."
      ],
      "metadata": {
        "id": "Z9jKVxE06BC1"
      }
    },
    {
      "cell_type": "markdown",
      "source": [
        "#### 9. Part of speech tagging"
      ],
      "metadata": {
        "id": "k5UmGsbsOxih"
      }
    },
    {
      "cell_type": "code",
      "source": [
        "# POS Taging"
      ],
      "metadata": {
        "id": "btT3ZJBAO6Ik"
      },
      "execution_count": null,
      "outputs": []
    },
    {
      "cell_type": "markdown",
      "source": [
        "#### 10. Text Vectorization"
      ],
      "metadata": {
        "id": "T0VqWOYE6DLQ"
      }
    },
    {
      "cell_type": "code",
      "source": [
        "# Vectorizing Text"
      ],
      "metadata": {
        "id": "yBRtdhth6JDE"
      },
      "execution_count": null,
      "outputs": []
    },
    {
      "cell_type": "markdown",
      "source": [
        "##### Which text vectorization technique have you used and why?"
      ],
      "metadata": {
        "id": "qBMux9mC6MCf"
      }
    },
    {
      "cell_type": "markdown",
      "source": [
        "Answer Here."
      ],
      "metadata": {
        "id": "su2EnbCh6UKQ"
      }
    },
    {
      "cell_type": "markdown",
      "source": [
        "### 4. Feature Manipulation & Selection"
      ],
      "metadata": {
        "id": "-oLEiFgy-5Pf"
      }
    },
    {
      "cell_type": "markdown",
      "source": [
        "#### 1. Feature Manipulation"
      ],
      "metadata": {
        "id": "C74aWNz2AliB"
      }
    },
    {
      "cell_type": "markdown",
      "source": [
        "Converting columns 'sc_h' and 'sc_w' in a single column screen_size , it will be the vertical length of the mobile."
      ],
      "metadata": {
        "id": "I0hBzbZa2KAV"
      }
    },
    {
      "cell_type": "code",
      "source": [
        "# Manipulate Features to minimize feature correlation and create new features\n",
        "# Calculate screen size using Pythagoras theorem\n",
        "data['screen_size'] = ((data['sc_h']**2)+(data['sc_w']**2))**0.5\n",
        "\n",
        "# Drop the columns 'sc_h' and 'sc_w'\n",
        "data.drop(['sc_h','sc_w'], axis=1 ,inplace=True)"
      ],
      "metadata": {
        "id": "E1lerTq92PSl"
      },
      "execution_count": null,
      "outputs": []
    },
    {
      "cell_type": "code",
      "source": [
        "data.columns"
      ],
      "metadata": {
        "id": "BBnuQHg42UJu"
      },
      "execution_count": null,
      "outputs": []
    },
    {
      "cell_type": "code",
      "source": [
        "#Create a new feature 'network' by adding the binary values of 'four_g' and 'three_g'\n",
        "data['network'] = data['four_g'] + data['three_g']\n",
        "\n",
        "#Define the categories for the new feature\n",
        "#0: Supports neither of 3G or 4G\n",
        "#1: Supports 3G but not 4G\n",
        "#2: Supports both 3G and 4G\n",
        "data['network'] = data['network'].apply(lambda x: 2 if x==2 else 1 if x==1 else 0)\n",
        "\n",
        "#Drop the 'four_g' and 'three_g' columns\n",
        "data.drop(['four_g', 'three_g'], inplace=True, axis=1)"
      ],
      "metadata": {
        "id": "N1EupYjX2btV"
      },
      "execution_count": null,
      "outputs": []
    },
    {
      "cell_type": "code",
      "source": [
        "#Convert screen size from cm to inches\n",
        "data['screen_size'] = data['screen_size'] / 2.54"
      ],
      "metadata": {
        "id": "eW0sw9r32eqD"
      },
      "execution_count": null,
      "outputs": []
    },
    {
      "cell_type": "code",
      "source": [
        "# Convert RAM unit from Megabytes to Gigabytes\n",
        "data['ram_gb'] = data['ram'] / 1024\n",
        "data.drop('ram', axis=1, inplace=True)"
      ],
      "metadata": {
        "id": "qhecvgB02ijc"
      },
      "execution_count": null,
      "outputs": []
    },
    {
      "cell_type": "code",
      "source": [
        "# create a new feature 'total_pixels' by multiplying px_height and px_width\n",
        "data['total_pixels'] = data['px_height'] * data['px_width']\n",
        "\n",
        "# drop the original px_height and px_width features\n",
        "data.drop(['px_height', 'px_width'], axis=1, inplace=True)\n"
      ],
      "metadata": {
        "id": "b6FEp7jB2kvl"
      },
      "execution_count": null,
      "outputs": []
    },
    {
      "cell_type": "markdown",
      "source": [
        "#### 2. Feature Selection"
      ],
      "metadata": {
        "id": "2DejudWSA-a0"
      }
    },
    {
      "cell_type": "code",
      "source": [
        "# Select your features wisely to avoid overfitting\n",
        "data.columns"
      ],
      "metadata": {
        "id": "YLhe8UmaBCEE"
      },
      "execution_count": null,
      "outputs": []
    },
    {
      "cell_type": "markdown",
      "source": [
        "##### What all feature selection methods have you used  and why?"
      ],
      "metadata": {
        "id": "pEMng2IbBLp7"
      }
    },
    {
      "cell_type": "markdown",
      "source": [
        "Correlation analysis: It is used to measure the relationship between two variables. If two variables are highly correlated, one of them can be removed as it may not provide much additional information."
      ],
      "metadata": {
        "id": "rb2Lh6Z8BgGs"
      }
    },
    {
      "cell_type": "markdown",
      "source": [
        "##### Which all features you found important and why?"
      ],
      "metadata": {
        "id": "rAdphbQ9Bhjc"
      }
    },
    {
      "cell_type": "markdown",
      "source": [
        " the following features were found to be important:\n",
        "\n",
        "1. Battery power\n",
        "2. Pixel density\n",
        "3. RAM\n",
        "4. Internal memory\n",
        "5. Screen size in inches\n",
        "6. Mobile weight\n",
        "7. Number of cores\n",
        "8. Primary camera resolution\n",
        "9. Secondary camera resolution\n",
        "10. Bluetooth support\n",
        "11. Wifi support\n",
        "12. Network\n",
        "13. Number of SIM card slots\n",
        "14. Talk Time\n",
        "15. clock speed\n",
        "16. Touch Screen\n",
        "17. Mobile depth\n",
        "These features were selected using techniques such as correlation analysis,  These features were chosen as they have the highest impact on predicting the price range of a mobile phone based on the given dataset."
      ],
      "metadata": {
        "id": "fGgaEstsBnaf"
      }
    },
    {
      "cell_type": "markdown",
      "source": [
        "### 5. Data Transformation"
      ],
      "metadata": {
        "id": "TNVZ9zx19K6k"
      }
    },
    {
      "cell_type": "code",
      "source": [
        "# Transform Your data\n",
        "plt.figure(figsize=(5,5))# set the size of plot\n",
        "\n",
        "sns.boxplot(data['total_pixels'])\n",
        "plt.show()"
      ],
      "metadata": {
        "id": "I6quWQ1T9rtH"
      },
      "execution_count": null,
      "outputs": []
    },
    {
      "cell_type": "markdown",
      "source": [
        "As we can see in the 'total_pixels' column that we have significant number of outliers. So we are going to take square root version of total_pixels."
      ],
      "metadata": {
        "id": "vbuHjMHqdTxB"
      }
    },
    {
      "cell_type": "markdown",
      "source": [
        "#### Do you think that your data needs to be transformed? If yes, which transformation have you used. Explain Why?"
      ],
      "metadata": {
        "id": "nqoHp30x9hH9"
      }
    },
    {
      "cell_type": "markdown",
      "source": [
        "Yes, in this case, I applied the square root transformation to the 'total_pixels' column and created a new column 'total_pixels_sqrt' in the mobile_data dataset.\n",
        "\n",
        "The reason for applying this transformation is that the 'total_pixels' column had a high range of values and a right-skewed distribution with significant outliers. The square root transformation can help to reduce the skewness and compress the range of values, making the data more suitable for modeling. Additionally, taking the square root of pixel values is a common technique in image processing to adjust the brightness and contrast of the image."
      ],
      "metadata": {
        "id": "0kF7DgfQdc3u"
      }
    },
    {
      "cell_type": "code",
      "source": [
        "#create new column 'total_pixels_sqrt' by taking the square root of 'total_pixels' column\n",
        "data['total_pixels_sqrt'] = np.sqrt(data['total_pixels'])\n",
        "\n",
        "#drop the 'pixels' column\n",
        "data.drop('total_pixels', axis=1, inplace=True)"
      ],
      "metadata": {
        "id": "wv5wVvtsdJBs"
      },
      "execution_count": null,
      "outputs": []
    },
    {
      "cell_type": "markdown",
      "source": [
        "### 6. Data Scaling"
      ],
      "metadata": {
        "id": "rMDnDkt2B6du"
      }
    },
    {
      "cell_type": "code",
      "source": [
        "# Scaling your data\n",
        "# assign all variables except \"price_range\" to X variable\n",
        "X = data.drop([\"price_range\"], axis=1)\n",
        "\n",
        "# assign \"price_range\" variable to y variable\n",
        "y = data[\"price_range\"]\n",
        "\n",
        "# print the shape of X and Y\n",
        "print(f\"The Number of Rows and Columns in X is {X.shape} respectively.\")\n",
        "print(f\"The Number of Rows and Columns in Y is {y.shape} respectively.\")"
      ],
      "metadata": {
        "id": "dL9LWpySC6x_"
      },
      "execution_count": null,
      "outputs": []
    },
    {
      "cell_type": "code",
      "source": [
        "# Create an instance of the MinMaxScaler class\n",
        "scaler = MinMaxScaler()\n",
        "\n",
        "# Apply the scaler to the features in X and store the transformed data in a new variable called x\n",
        "x = scaler.fit_transform(X)"
      ],
      "metadata": {
        "id": "DCw7rvUq4Upd"
      },
      "execution_count": null,
      "outputs": []
    },
    {
      "cell_type": "markdown",
      "source": [
        "##### Which method have you used to scale you data and why?\n",
        "\n",
        "To summarize, the choice of scaling method depends on the distribution of the data, the presence of outliers, and the requirements of the machine learning algorithm. Standardization (Z-score normalization) is suitable for non-Gaussian data and algorithms that benefit from zero-mean features. Min-Max scaling is useful for bounding data within a specific range and preserving relative relationships between data points. Robust scaling is ideal for data with outliers as it is less affected by extreme values. It's recommended to experiment with different scaling methods and evaluate their impact on model performance to determine the most suitable one."
      ],
      "metadata": {
        "id": "yiiVWRdJDDil"
      }
    },
    {
      "cell_type": "markdown",
      "source": [
        "### 7. Dimesionality Reduction"
      ],
      "metadata": {
        "id": "1UUpS68QDMuG"
      }
    },
    {
      "cell_type": "markdown",
      "source": [
        "##### Do you think that dimensionality reduction is needed? Explain Why?"
      ],
      "metadata": {
        "id": "kexQrXU-DjzY"
      }
    },
    {
      "cell_type": "markdown",
      "source": [
        "Answer Here."
      ],
      "metadata": {
        "id": "GGRlBsSGDtTQ"
      }
    },
    {
      "cell_type": "code",
      "source": [
        "# DImensionality Reduction (If needed)"
      ],
      "metadata": {
        "id": "kQfvxBBHDvCa"
      },
      "execution_count": null,
      "outputs": []
    },
    {
      "cell_type": "markdown",
      "source": [
        "##### Which dimensionality reduction technique have you used and why? (If dimensionality reduction done on dataset.)"
      ],
      "metadata": {
        "id": "T5CmagL3EC8N"
      }
    },
    {
      "cell_type": "markdown",
      "source": [
        "Answer Here."
      ],
      "metadata": {
        "id": "ZKr75IDuEM7t"
      }
    },
    {
      "cell_type": "markdown",
      "source": [
        "### 8. Data Splitting"
      ],
      "metadata": {
        "id": "BhH2vgX9EjGr"
      }
    },
    {
      "cell_type": "code",
      "source": [
        "# Split your data to train and test. Choose Splitting ratio wisely.\n",
        "\n",
        "# split the data into train and test data using 80:20 ratio\n",
        "X_train, X_test, y_train, y_test = train_test_split(x, y, test_size=0.2, random_state=19)"
      ],
      "metadata": {
        "id": "0CTyd2UwEyNM"
      },
      "execution_count": null,
      "outputs": []
    },
    {
      "cell_type": "markdown",
      "source": [
        "##### What data splitting ratio have you used and why? "
      ],
      "metadata": {
        "id": "qjKvONjwE8ra"
      }
    },
    {
      "cell_type": "markdown",
      "source": [
        "I used a test size of 0.2, which means that 20% of the data will be used for testing and 80% for training. This ratio is a commonly used default value in machine learning and provides a good balance between having enough data for training the model and having enough data to evaluate the performance of the model on unseen data. Additionally, by setting a random state value of 19, the same split can be obtained each time the code is run, ensuring reproducibility of the results."
      ],
      "metadata": {
        "id": "Y2lJ8cobFDb_"
      }
    },
    {
      "cell_type": "markdown",
      "source": [
        "### 9. Handling Imbalanced Dataset"
      ],
      "metadata": {
        "id": "P1XJ9OREExlT"
      }
    },
    {
      "cell_type": "markdown",
      "source": [
        "##### Do you think the dataset is imbalanced? Explain Why."
      ],
      "metadata": {
        "id": "VFOzZv6IFROw"
      }
    },
    {
      "cell_type": "markdown",
      "source": [
        "Answer Here."
      ],
      "metadata": {
        "id": "GeKDIv7pFgcC"
      }
    },
    {
      "cell_type": "code",
      "source": [
        "# Handling Imbalanced Dataset (If needed)"
      ],
      "metadata": {
        "id": "nQsRhhZLFiDs"
      },
      "execution_count": null,
      "outputs": []
    },
    {
      "cell_type": "markdown",
      "source": [
        "##### What technique did you use to handle the imbalance dataset and why? (If needed to be balanced)"
      ],
      "metadata": {
        "id": "TIqpNgepFxVj"
      }
    },
    {
      "cell_type": "markdown",
      "source": [
        "Answer Here."
      ],
      "metadata": {
        "id": "qbet1HwdGDTz"
      }
    },
    {
      "cell_type": "markdown",
      "source": [
        "## ***7. ML Model Implementation***"
      ],
      "metadata": {
        "id": "VfCC591jGiD4"
      }
    },
    {
      "cell_type": "markdown",
      "source": [
        "### ML Model - 1.  Support Vector Machine"
      ],
      "metadata": {
        "id": "OB4l2ZhMeS1U"
      }
    },
    {
      "cell_type": "code",
      "source": [
        "# ML Model - 1 Implementation\n",
        "svm=SVC(random_state=1)\n",
        "\n",
        "# Fit the Algorithm\n",
        "svm.fit(X_train,y_train)\n",
        "\n",
        "# Predict on the model\n",
        "train_pred = svm.predict(X_train)\n",
        "test_pred = svm.predict(X_test)"
      ],
      "metadata": {
        "id": "7ebyywQieS1U"
      },
      "execution_count": null,
      "outputs": []
    },
    {
      "cell_type": "code",
      "source": [
        "print(\"train accuracy:\",svm.score(X_train,y_train))\n",
        "print(\"test accuracy:\",svm.score(X_test,y_test))"
      ],
      "metadata": {
        "id": "i-PczifzhIzE"
      },
      "execution_count": null,
      "outputs": []
    },
    {
      "cell_type": "markdown",
      "source": [
        "#### 1. Explain the ML Model used and it's performance using Evaluation metric Score Chart."
      ],
      "metadata": {
        "id": "ArJBuiUVfxKd"
      }
    },
    {
      "cell_type": "code",
      "source": [
        "def print_classification_results(y_train_true, y_train_pred, y_test_true, y_test_pred):\n",
        "    # Print accuracy scores for training and test sets\n",
        "    train_accuracy = accuracy_score(y_train_true, y_train_pred)\n",
        "    test_accuracy = accuracy_score(y_test_true, y_test_pred)\n",
        "    print(f'Training set accuracy: {train_accuracy:.3f}')\n",
        "    print(f'Test set accuracy: {test_accuracy:.3f}')\n",
        "    \n",
        "    # Print classification report for test set\n",
        "    print('\\nClassification report for test set:')\n",
        "    print(classification_report(y_test_true, y_test_pred))\n",
        "    \n",
        "    # Plot confusion matrix for test set\n",
        "    cm = confusion_matrix(y_test_true, y_test_pred)\n",
        "    plt.figure(figsize=(8,6))\n",
        "    class_names = ['low cost', 'medium cost', 'high cost', 'very high cost']\n",
        "    sns.heatmap(cm, annot=True, fmt='g', cmap='Blues', \n",
        "                xticklabels=class_names, yticklabels=class_names)\n",
        "    plt.xlabel('Predicted')\n",
        "    plt.ylabel('True')\n",
        "    plt.title('Confusion matrix for test set')\n",
        "    plt.show()\n",
        "    "
      ],
      "metadata": {
        "id": "zwPV_igAH0t4"
      },
      "execution_count": null,
      "outputs": []
    },
    {
      "cell_type": "code",
      "source": [
        "#classification report\n",
        "print_classification_results(y_train, train_pred, y_test, test_pred)"
      ],
      "metadata": {
        "id": "55xtue_lIQFw"
      },
      "execution_count": null,
      "outputs": []
    },
    {
      "cell_type": "markdown",
      "source": [
        "#### 2. Cross- Validation & Hyperparameter Tuning"
      ],
      "metadata": {
        "id": "4qY1EAkEfxKe"
      }
    },
    {
      "cell_type": "code",
      "source": [
        "#Define the hyperparameter grid for the SVM model using GridSearchCV\n",
        "C=[1,0.1,0.25,0.5,2,0.75] # regularization parameter\n",
        "kernel=[\"linear\",\"rbf\"] # kernel type to be used in the algorithm\n",
        "gamma=[\"auto\",0.01,0.001,0.0001,1] # kernel coefficient\n",
        "decision_function_shape=[\"ovo\",\"ovr\"] # decision function shape for multi-class classification"
      ],
      "metadata": {
        "id": "L4e4hBdCMl4l"
      },
      "execution_count": null,
      "outputs": []
    },
    {
      "cell_type": "code",
      "source": [
        "# ML Model - 1 Implementation with hyperparameter optimization techniques (i.e., GridSearch CV, RandomSearch CV, Bayesian Optimization etc.)\n",
        "#Create a Support Vector Machine object with random state 1\n",
        "svm = SVC(random_state=1)\n",
        "\n",
        "#Create a dictionary with the hyperparameters to tune\n",
        "param_grid_svc = {'kernel': kernel, 'C': C, 'gamma': gamma, 'decision_function_shape': decision_function_shape}\n",
        "\n",
        "#Create a GridSearchCV object with 5-fold cross-validation\n",
        "grid_svm = GridSearchCV(estimator=svm, param_grid=param_grid_svc, cv=5)\n",
        "\n",
        "\n",
        "# Fit the Algorithm\n",
        "grid_svm.fit(X_train,y_train)\n",
        "print(\"best score: \", grid_svm.best_score_)\n",
        "print(\"best param: \", grid_svm.best_params_)\n",
        "\n",
        "# Predict on the model\n",
        "train_pred_gcv = grid_svm.predict(X_train)\n",
        "test_pred_gcv = grid_svm.predict(X_test)"
      ],
      "metadata": {
        "id": "5O3Ci_XJNVcV"
      },
      "execution_count": null,
      "outputs": []
    },
    {
      "cell_type": "code",
      "source": [
        "#classification report\n",
        "print_classification_results(y_train, train_pred_gcv, y_test, test_pred_gcv)"
      ],
      "metadata": {
        "id": "ZbbDDGF-NbtD"
      },
      "execution_count": null,
      "outputs": []
    },
    {
      "cell_type": "markdown",
      "source": [
        "##### Which hyperparameter optimization technique have you used and why?"
      ],
      "metadata": {
        "id": "PiV4Ypx8fxKe"
      }
    },
    {
      "cell_type": "markdown",
      "source": [
        "I used GridSearchCV for hyperparameter optimization of the SVM model. GridSearchCV is a commonly used technique for hyperparameter tuning in machine learning. It performs an exhaustive search over specified hyperparameter values to find the best combination of hyperparameters that results in the best performance on the validation data.\n",
        "\n",
        "In this case, the hyperparameters being optimized are C (regularization parameter), kernel type, gamma (kernel coefficient), and decision function shape for multi-class classification. The reason for using GridSearchCV is that it simplifies the process of hyperparameter tuning by automating the process of finding the best combination of hyperparameters."
      ],
      "metadata": {
        "id": "negyGRa7fxKf"
      }
    },
    {
      "cell_type": "markdown",
      "source": [
        "##### Have you seen any improvement? Note down the improvement with updates Evaluation metric Score Chart."
      ],
      "metadata": {
        "id": "TfvqoZmBfxKf"
      }
    },
    {
      "cell_type": "markdown",
      "source": [
        "Yes, there is an improvement in the performance of the SVM model after hyperparameter tuning. The training set accuracy has remained relatively similar, but there is a significant improvement in the test set accuracy from 0.843 to 0.935. This means that the model has become more generalizable and is performing better on unseen data. We can also see from the confusion matrix and classification report that the performance of the model has improved across all classes.\n",
        "\n",
        "**Evaluation Metric Score Chart:**Answer Here."
      ],
      "metadata": {
        "id": "OaLui8CcfxKf"
      }
    },
    {
      "cell_type": "markdown",
      "source": [
        "\\begin{array}{|c|c|} \\hline\n",
        "Model & Training ( Accuracy) & Testing (Accuracy) \\\\ \\hline\n",
        "SVM(Without-Tuning) & 0.961 & 0.843 \\\\ \\hline\n",
        "SVM( With-Tuning) & 0.946 & 0.935 \\\\\\hline\n",
        "\\end{array}"
      ],
      "metadata": {
        "id": "g0Jjn25FpAPg"
      }
    },
    {
      "cell_type": "markdown",
      "source": [
        "### ML Model - 2.  Logistic regression"
      ],
      "metadata": {
        "id": "dJ2tPlVmpsJ0"
      }
    },
    {
      "cell_type": "code",
      "source": [
        "# ML Model - 2 Implementation\n",
        "clf = LogisticRegression(fit_intercept=True, max_iter=10000)\n",
        "\n",
        "# Fit the Algorithm\n",
        "clf.fit(X_train, y_train)\n",
        "\n",
        "# Predict on the model\n",
        "train_pred_lg = clf.predict(X_train)\n",
        "test_pred_lg = clf.predict(X_test)"
      ],
      "metadata": {
        "id": "VJ5BD6hnBKI1"
      },
      "execution_count": null,
      "outputs": []
    },
    {
      "cell_type": "markdown",
      "source": [
        "#### 1. Explain the ML Model used and it's performance using Evaluation metric Score Chart."
      ],
      "metadata": {
        "id": "JWYfwnehpsJ1"
      }
    },
    {
      "cell_type": "code",
      "source": [
        "# Visualizing evaluation Metric Score chart\n",
        "#classification report\n",
        "print_classification_results(y_train, train_pred_lg, y_test, test_pred_lg)"
      ],
      "metadata": {
        "id": "yEl-hgQWpsJ1"
      },
      "execution_count": null,
      "outputs": []
    },
    {
      "cell_type": "markdown",
      "source": [
        "#### 2. Cross- Validation & Hyperparameter Tuning"
      ],
      "metadata": {
        "id": "-jK_YjpMpsJ2"
      }
    },
    {
      "cell_type": "code",
      "source": [
        "# Define the hyperparameter grid\n",
        "param_grid_lg = {'penalty': ['l1', 'l2', 'elasticnet', 'none'],\n",
        "              'C': [0.1, 0.5, 1.0, 5.0],\n",
        "              'solver': ['newton-cg', 'lbfgs', 'liblinear', 'sag', 'saga'],\n",
        "              'max_iter': [100, 500, 1000]}"
      ],
      "metadata": {
        "id": "Dn0EOfS6psJ2"
      },
      "execution_count": null,
      "outputs": []
    },
    {
      "cell_type": "code",
      "source": [
        "# ML Model - 2 Implementation with hyperparameter optimization techniques (i.e., GridSearch CV, RandomSearch CV, Bayesian Optimization etc.)\n",
        "logreg = LogisticRegression(random_state=1)\n",
        "# Perform grid search with cross-validation\n",
        "grid_search = GridSearchCV(estimator=logreg, param_grid=param_grid_lg, cv=5)\n",
        "\n",
        "# Fit the Algorithm\n",
        "grid_search.fit(X_train, y_train)\n",
        "\n",
        "# Predict on the model\n",
        "# Use the best estimator to make predictions\n",
        "y_train_pred = grid_search.predict(X_train)\n",
        "y_test_pred = grid_search.predict(X_test)"
      ],
      "metadata": {
        "id": "al4CgIkwMIG6"
      },
      "execution_count": null,
      "outputs": []
    },
    {
      "cell_type": "code",
      "source": [
        "# Print the best hyperparameters\n",
        "print(\"Best hyperparameters: \", grid_search.best_params_)"
      ],
      "metadata": {
        "id": "pRJd9GUHMtUs"
      },
      "execution_count": null,
      "outputs": []
    },
    {
      "cell_type": "code",
      "source": [
        "#classification report\n",
        "print_classification_results(y_train, y_train_pred, y_test, y_test_pred)"
      ],
      "metadata": {
        "id": "B_SJxWS5MxTH"
      },
      "execution_count": null,
      "outputs": []
    },
    {
      "cell_type": "markdown",
      "source": [
        "##### Which hyperparameter optimization technique have you used and why?"
      ],
      "metadata": {
        "id": "HAih1iBOpsJ2"
      }
    },
    {
      "cell_type": "markdown",
      "source": [
        "GridSearchCV is used for hyperparameter optimization. GridSearchCV is a commonly used technique for hyperparameter tuning in machine learning. It is used when the number of hyperparameters is relatively small and the search space is not too large. GridSearchCV exhaustively searches over a grid of hyperparameters specified in a dictionary to find the best combination of hyperparameters that maximizes the performance of the model. In our case, we have specified a grid of hyperparameters for the logistic regression model and GridSearchCV is used to find the best combination of these hyperparameters that maximizes the accuracy score of the model."
      ],
      "metadata": {
        "id": "9kBgjYcdpsJ2"
      }
    },
    {
      "cell_type": "markdown",
      "source": [
        "##### Have you seen any improvement? Note down the improvement with updates Evaluation metric Score Chart."
      ],
      "metadata": {
        "id": "zVGeBEFhpsJ2"
      }
    },
    {
      "cell_type": "markdown",
      "source": [
        "Yes, there is a significant improvement in the performance of the logistic regression model after hyperparameter tuning. The accuracy of the model on the test set increased from 0.882 to 0.955, which is a significant improvement. The precision, recall, and F1-scores for all the classes have also improved after hyperparameter tuning. Therefore, hyperparameter tuning has helped to improve the overall performance of the logistic regression model.\n",
        "\n",
        "**Evaluation Metric Score Chart:**\n",
        "\n"
      ],
      "metadata": {
        "id": "74yRdG6UpsJ3"
      }
    },
    {
      "cell_type": "markdown",
      "source": [
        "\\begin{array}{|c|c|} \\hline\n",
        "Model & Training ( Accuracy) & Testing (Accuracy) \\\\ \\hline\n",
        "SVM(Without-Tuning) & 0.961 & 0.843 \\\\ \\hline\n",
        "SVM( With-Tuning) & 0.946 & 0.935 \\\\\\hline\n",
        "Logistic-Regression(Without-Tuning) & 0.909 & 0.882 \\\\\\hline\n",
        "Logistic-Regression( With-Tuning) & 0.962 & 0.955 \\\\\\hline\n",
        "\\end{array}"
      ],
      "metadata": {
        "id": "u391uYNuOJJ9"
      }
    },
    {
      "cell_type": "markdown",
      "source": [
        "As we can see from the table, both models showed an improvement in accuracy after tuning, with the Logistic Regression model showing the most significant improvement. The tuned Logistic Regression model achieved the highest testing accuracy of 0.955."
      ],
      "metadata": {
        "id": "NsgODywjPuxh"
      }
    },
    {
      "cell_type": "markdown",
      "source": [
        "#### 3. Explain each evaluation metric's indication towards business and the business impact pf the ML model used."
      ],
      "metadata": {
        "id": "bmKjuQ-FpsJ3"
      }
    },
    {
      "cell_type": "markdown",
      "source": [
        "There are several evaluation metrics used in machine learning, each with its own indication towards business and impact. Here are some commonly used evaluation metrics and their business impact:\n",
        "\n",
        "1. **Accuracy**: Accuracy measures the proportion of correctly classified instances over the total number of instances. High accuracy indicates that the model is making correct predictions. However, accuracy alone may not be the best measure of model performance, especially when the classes are imbalanced. For example, if a model is used to predict fraudulent transactions, high accuracy may not be enough as it may still miss some fraudulent transactions.\n",
        "\n",
        "2. **Precision**: Precision is the proportion of true positives (correctly classified positive instances) over the total number of predicted positive instances. It indicates the model's ability to avoid false positives. High precision means that the model is making fewer false positive predictions. For example, in a medical diagnosis model, high precision means that the model is accurately predicting patients with a specific disease and not misdiagnosing healthy patients.\n",
        "\n",
        "3. **Recall**: Recall is the proportion of true positives over the total number of actual positive instances. It indicates the model's ability to detect positive instances. High recall means that the model is making fewer false negatives. For example, in a model to detect cancer, high recall means that the model is detecting most of the actual cancer cases and not missing them.\n",
        "\n",
        "4. **F1-score**: F1-score is the harmonic mean of precision and recall. It combines both precision and recall and provides a more balanced evaluation of the model's performance. F1-score is a good measure when both precision and recall are important.\n",
        "\n",
        "The business impact of the ML model depends on the specific problem it is solving. For example, in a medical diagnosis model, high recall is crucial to ensure that no patients with the disease are missed, while high precision is also important to avoid false positives that could result in unnecessary treatments. In a fraud detection model, high precision is crucial to avoid flagging too many legitimate transactions as fraud, while high recall is also important to ensure that all fraudulent transactions are caught. Therefore, it is important to understand the specific business problem and select the appropriate evaluation metric(s) that align with the business goals."
      ],
      "metadata": {
        "id": "BDKtOrBQpsJ3"
      }
    },
    {
      "cell_type": "markdown",
      "source": [
        "### ML Model - 3. k-nearest neighbors "
      ],
      "metadata": {
        "id": "Fze-IPXLpx6K"
      }
    },
    {
      "cell_type": "code",
      "source": [
        "# ML Model - 3 Implementation\n",
        "# create KNN object\n",
        "knn = KNeighborsClassifier(n_neighbors=5)\n",
        "\n",
        "# Fit the Algorithm\n",
        "# fit the model using training data\n",
        "knn.fit(X_train, y_train)\n",
        "\n",
        "# Predict on the model\n",
        "# predict on the test and train data\n",
        "y_test_pred_k = knn.predict(X_test)\n",
        "y_train_pred_k = knn.predict(X_train)\n"
      ],
      "metadata": {
        "id": "FFrSXAtrpx6M"
      },
      "execution_count": null,
      "outputs": []
    },
    {
      "cell_type": "markdown",
      "source": [
        "#### 1. Explain the ML Model used and it's performance using Evaluation metric Score Chart."
      ],
      "metadata": {
        "id": "7AN1z2sKpx6M"
      }
    },
    {
      "cell_type": "code",
      "source": [
        "# Visualizing evaluation Metric Score chart\n",
        "#classification report\n",
        "print_classification_results(y_train, y_train_pred_k, y_test, y_test_pred_k)"
      ],
      "metadata": {
        "id": "xIY4lxxGpx6M"
      },
      "execution_count": null,
      "outputs": []
    },
    {
      "cell_type": "markdown",
      "source": [
        "#### 2. Cross- Validation & Hyperparameter Tuning"
      ],
      "metadata": {
        "id": "9PIHJqyupx6M"
      }
    },
    {
      "cell_type": "code",
      "source": [
        "# Define the hyperparameters to be tuned using GridSearchCV\n",
        "param_grid_knn = {\n",
        "    'n_neighbors': [3, 5, 7, 9],\n",
        "    'weights': ['uniform', 'distance'],\n",
        "    'metric': ['euclidean', 'manhattan']\n",
        "}"
      ],
      "metadata": {
        "id": "eSVXuaSKpx6M"
      },
      "execution_count": null,
      "outputs": []
    },
    {
      "cell_type": "code",
      "source": [
        "# ML Model - 3 Implementation with hyperparameter optimization techniques (i.e., GridSearch CV, RandomSearch CV, Bayesian Optimization etc.)\n",
        "# Define the KNN model\n",
        "knn = KNeighborsClassifier()\n",
        "# Fit the Algorithm\n",
        "# Create a GridSearchCV object and fit it to the training data\n",
        "grid_search = GridSearchCV(knn, param_grid_knn, cv=5)\n",
        "grid_search.fit(X_train, y_train)\n",
        "# Predict on the model\n",
        "# Use the best estimator to make predictions\n",
        "y_1_pred_gk = grid_search.predict(X_train)\n",
        "y_2_pred_gk = grid_search.predict(X_test)"
      ],
      "metadata": {
        "id": "Kzu1KEsUUHCk"
      },
      "execution_count": null,
      "outputs": []
    },
    {
      "cell_type": "code",
      "source": [
        "# Print the best parameters and the corresponding score\n",
        "print(\"Best parameters: \", grid_search.best_params_)\n",
        "print(\"Best score: \", grid_search.best_score_)"
      ],
      "metadata": {
        "id": "0fYobRYRUMSI"
      },
      "execution_count": null,
      "outputs": []
    },
    {
      "cell_type": "code",
      "source": [
        "# Visualizing evaluation Metric Score chart\n",
        "#classification report\n",
        "print_classification_results(y_train, y_1_pred_gk, y_test, y_2_pred_gk)"
      ],
      "metadata": {
        "id": "QzTZOZjQUQFj"
      },
      "execution_count": null,
      "outputs": []
    },
    {
      "cell_type": "markdown",
      "source": [
        "##### Which hyperparameter optimization technique have you used and why?"
      ],
      "metadata": {
        "id": "_-qAgymDpx6N"
      }
    },
    {
      "cell_type": "markdown",
      "source": [
        "Grid Search is a widely used technique for hyperparameter tuning, in which a grid of hyperparameters is defined, and the model is trained and evaluated using each combination of hyperparameters in the grid. Grid Search is a systematic approach that exhaustively searches through all the possible combinations of hyperparameters specified in the grid to find the optimal combination that results in the best performance of the model. Grid Search is a popular technique because it is simple to implement, and it provides a comprehensive and structured approach to hyperparameter tuning."
      ],
      "metadata": {
        "id": "lQMffxkwpx6N"
      }
    },
    {
      "cell_type": "markdown",
      "source": [
        "##### Have you seen any improvement? Note down the improvement with updates Evaluation metric Score Chart."
      ],
      "metadata": {
        "id": "Z-hykwinpx6N"
      }
    },
    {
      "cell_type": "markdown",
      "source": [
        "Yes, there is an improvement in the KNN model after hyperparameter tuning. The test set accuracy has increased from 0.427 to 0.517, which is an improvement of 9%. Here's the updated evaluation metric score chart:\n",
        "\n",
        "**Evaluation Metric Score Chart:**"
      ],
      "metadata": {
        "id": "MzVzZC6opx6N"
      }
    },
    {
      "cell_type": "markdown",
      "source": [
        "\\begin{array}{|c|c|} \\hline\n",
        "Model & Training ( Accuracy) & Testing (Accuracy) \\\\ \\hline\n",
        "SVM(Without-Tuning) & 0.961 & 0.843 \\\\ \\hline\n",
        "SVM( With-Tuning) & 0.946 & 0.935 \\\\\\hline\n",
        "Logistic-Regression(Without-Tuning) & 0.909 & 0.882 \\\\\\hline\n",
        "Logistic-Regression( With-Tuning) & 0.962 & 0.955 \\\\\\hline\n",
        "KNN(Without-Tuning) & 0.654 & 0.427 \\\\\\hline\n",
        "KNN( With-Tuning) & 1.000 & 0.517 \\\\\\hline\n",
        "\\end{array}"
      ],
      "metadata": {
        "id": "piu63jCAU4VW"
      }
    },
    {
      "cell_type": "markdown",
      "source": [
        "Looking at the classification report, we can see that the precision, recall, and f1-score for each class are generally low, indicating that the model is not accurately predicting each class. This could have a negative impact on the business as it may lead to incorrect decisions based on the predictions of the model.\n",
        "\n",
        "It's possible that KNN is not the best model for this dataset and we may need to explore other models or feature engineering techniques to improve the performance."
      ],
      "metadata": {
        "id": "ncZh8u9jU3D5"
      }
    },
    {
      "cell_type": "markdown",
      "source": [
        "### 1. Which Evaluation metrics did you consider for a positive business impact and why?"
      ],
      "metadata": {
        "id": "h_CCil-SKHpo"
      }
    },
    {
      "cell_type": "markdown",
      "source": [
        "In the context of mobile price range prediction, accuracy, precision, recall, and F1-score are important evaluation metrics that should be considered for a positive business impact. The reason behind this is that a wrong prediction of a mobile phone's price range can lead to significant losses for both the customer and the seller. For example, if the predicted price range is higher than the actual price range, the customer may not buy the phone, resulting in a lost sale. On the other hand, if the predicted price range is lower than the actual price range, the seller may lose revenue. Therefore, the accuracy of the prediction is important to ensure that the seller and the customer are both satisfied.\n",
        "\n",
        "Precision, recall, and F1-score are also important evaluation metrics to consider, as they can provide insight into the model's ability to predict each price range category accurately. Precision is the proportion of correctly predicted positive examples (i.e., correct prediction of the phone's price range category) among all positive examples predicted by the model. Recall, on the other hand, is the proportion of correctly predicted positive examples among all actual positive examples. F1-score is the harmonic mean of precision and recall, which can provide a balance between the two metrics.\n",
        "\n",
        "Therefore, to ensure a positive business impact on mobile price range prediction, it is essential to consider these evaluation metrics, as they can help to determine the model's ability to predict the price range accurately and identify areas for improvement.."
      ],
      "metadata": {
        "id": "jHVz9hHDKFms"
      }
    },
    {
      "cell_type": "markdown",
      "source": [
        "### 2. Which ML model did you choose from the above created models as your final prediction model and why?"
      ],
      "metadata": {
        "id": "cBFFvTBNJzUa"
      }
    },
    {
      "cell_type": "markdown",
      "source": [
        "As per evaluation metric score chart, it seems that the logistic regression model with tuning performed the best with an accuracy score of 0.962 on the training set and 0.955 on the test set. Therefore, I would recommend choosing the logistic regression model with tuning as the final prediction model."
      ],
      "metadata": {
        "id": "6ksF5Q1LKTVm"
      }
    },
    {
      "cell_type": "markdown",
      "source": [
        "### 3. Explain the model which you have used and the feature importance using any model explainability tool?"
      ],
      "metadata": {
        "id": "HvGl1hHyA_VK"
      }
    },
    {
      "cell_type": "markdown",
      "source": [
        "Model Explainability:\n",
        "Model explainability refers to understanding how a machine learning model makes predictions. Techniques like SHAP values help explain the contribution of each feature to a prediction.\n",
        "\n",
        "Feature Importance:\n",
        "Feature importance quantifies the relevance of each feature in a model's decision-making. It can be derived from coefficients in linear models, the frequency of feature usage in tree-based models, or through permutation importance and partial dependence plots."
      ],
      "metadata": {
        "id": "YnvVTiIxBL-C"
      }
    },
    {
      "cell_type": "markdown",
      "source": [
        "## ***8.*** ***Future Work (Optional)***"
      ],
      "metadata": {
        "id": "EyNgTHvd2WFk"
      }
    },
    {
      "cell_type": "markdown",
      "source": [
        "### 1. Save the best performing ml model in a pickle file or joblib file format for deployment process.\n"
      ],
      "metadata": {
        "id": "KH5McJBi2d8v"
      }
    },
    {
      "cell_type": "code",
      "source": [
        "# Save the File"
      ],
      "metadata": {
        "id": "bQIANRl32f4J"
      },
      "execution_count": null,
      "outputs": []
    },
    {
      "cell_type": "markdown",
      "source": [
        "### 2. Again Load the saved model file and try to predict unseen data for a sanity check.\n"
      ],
      "metadata": {
        "id": "iW_Lq9qf2h6X"
      }
    },
    {
      "cell_type": "code",
      "source": [
        "# Load the File and predict unseen data."
      ],
      "metadata": {
        "id": "oEXk9ydD2nVC"
      },
      "execution_count": null,
      "outputs": []
    },
    {
      "cell_type": "markdown",
      "source": [
        "### ***Congrats! Your model is successfully created and ready for deployment on a live server for a real user interaction !!!***"
      ],
      "metadata": {
        "id": "-Kee-DAl2viO"
      }
    },
    {
      "cell_type": "markdown",
      "source": [
        "# **Conclusion**"
      ],
      "metadata": {
        "id": "gCX9965dhzqZ"
      }
    },
    {
      "cell_type": "markdown",
      "source": [
        "1. The dataset consisted of various features related to mobile phones such as battery power, RAM, internal memory, etc., and the target variable was the price range of the mobile.\n",
        "2. The dataset was analyzed and preprocessed by checking for missing values, duplicates, outliers, and scaling the features.\n",
        "2. Exploratory data analysis was performed to understand the distribution and relationship between the features and the target variable.\n",
        "3. Different machine learning models such as SVM, Logistic Regression, KNN, and Random Forest were trained on the dataset to predict the price range of mobile phones.\n",
        "4. The performance of each model was evaluated based on accuracy and F1-score, and logistic regression with hyperparameter tuning was found to be the best performing model.\n",
        "5. The feature importance was analyzed using the Random Forest model, and it was found that features such as RAM, battery power, and total pixels were the most important in predicting the price range.\n",
        "6. In conclusion, logistic regression with hyperparameter tuning can be used to predict the price range of mobile phones with high accuracy, and the most important features to consider while predicting the price range are RAM, battery power, and total pixels."
      ],
      "metadata": {
        "id": "Fjb1IsQkh3yE"
      }
    },
    {
      "cell_type": "markdown",
      "source": [
        "### ***Hurrah! You have successfully completed your Machine Learning Capstone Project !!!***"
      ],
      "metadata": {
        "id": "gIfDvo9L0UH2"
      }
    }
  ]
}